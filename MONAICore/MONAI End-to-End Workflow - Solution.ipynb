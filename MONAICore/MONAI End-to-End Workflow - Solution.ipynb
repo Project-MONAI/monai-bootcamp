{
 "cells": [
  {
   "cell_type": "markdown",
   "id": "ce486179",
   "metadata": {
    "slideshow": {
     "slide_type": "slide"
    }
   },
   "source": [
    "<center><img src=\"monai.png\"/></center>\n",
    "\n",
    "<p style=\"text-align: center\">Welcome to the MONAI bootcamp!</p>\n",
    "<p style=\"text-align: center\">This notebook will introduce you to an end-to-end working in MONAI using a standard PyTorch loop.</center>"
   ]
  },
  {
   "cell_type": "markdown",
   "id": "fc11ee02",
   "metadata": {
    "slideshow": {
     "slide_type": "slide"
    }
   },
   "source": [
    "### Using Google Colab\n",
    "\n",
    "This notebook has the pip command for installing MONAI and will be added to any subsequent notebook.\n",
    "\n",
    "### Enabling GPU Support\n",
    "\n",
    "To use GPU resources through Colab, change the runtime to GPU:\n",
    "\n",
    "1. From the **\"Runtime\"** menu select **\"Change Runtime Type\"**\n",
    "2. Choose **\"GPU\"** from the drop-down menu\n",
    "3. Click **\"SAVE\"**\n",
    "\n",
    "This will reset the notebook and probably ask you if you are a robot (these instructions assume you are not). Running\n",
    "\n"
   ]
  },
  {
   "cell_type": "markdown",
   "id": "a3a61564",
   "metadata": {
    "slideshow": {
     "slide_type": "slide"
    }
   },
   "source": [
    "### Verify GPU Access\n",
    "\n",
    "Running **!nvidia-smi** in a cell will verify this has worked and show you what kind of hardware you have access to.    "
   ]
  },
  {
   "cell_type": "code",
   "execution_count": 1,
   "id": "ed430fcc",
   "metadata": {
    "slideshow": {
     "slide_type": "fragment"
    }
   },
   "outputs": [
    {
     "name": "stdout",
     "output_type": "stream",
     "text": [
      "Tue Jan 24 13:33:49 2023       \n",
      "+-----------------------------------------------------------------------------+\n",
      "| NVIDIA-SMI 515.86.01    Driver Version: 515.86.01    CUDA Version: 11.7     |\n",
      "|-------------------------------+----------------------+----------------------+\n",
      "| GPU  Name        Persistence-M| Bus-Id        Disp.A | Volatile Uncorr. ECC |\n",
      "| Fan  Temp  Perf  Pwr:Usage/Cap|         Memory-Usage | GPU-Util  Compute M. |\n",
      "|                               |                      |               MIG M. |\n",
      "|===============================+======================+======================|\n",
      "|   0  NVIDIA A100-PCI...  Off  | 00000000:0B:00.0 Off |                    0 |\n",
      "| N/A   21C    P0    33W / 250W |  29759MiB / 40960MiB |      0%      Default |\n",
      "|                               |                      |             Disabled |\n",
      "+-------------------------------+----------------------+----------------------+\n",
      "                                                                               \n",
      "+-----------------------------------------------------------------------------+\n",
      "| Processes:                                                                  |\n",
      "|  GPU   GI   CI        PID   Type   Process name                  GPU Memory |\n",
      "|        ID   ID                                                   Usage      |\n",
      "|=============================================================================|\n",
      "|    0   N/A  N/A      1506      G   /usr/lib/xorg/Xorg                  4MiB |\n",
      "|    0   N/A  N/A      5357      C   /opt/conda/bin/python3            478MiB |\n",
      "|    0   N/A  N/A      5359      C   /opt/conda/bin/python3            628MiB |\n",
      "|    0   N/A  N/A      5360      C   /opt/conda/bin/python3            480MiB |\n",
      "|    0   N/A  N/A   2140390      C   ...envs/monai_fix/bin/python     4803MiB |\n",
      "|    0   N/A  N/A   2594057      C   /opt/conda/bin/python3.8         3688MiB |\n",
      "|    0   N/A  N/A   3992879      C   ...envs/monai_fix/bin/python    19675MiB |\n",
      "+-----------------------------------------------------------------------------+\n"
     ]
    }
   ],
   "source": [
    "!nvidia-smi"
   ]
  },
  {
   "cell_type": "markdown",
   "id": "a7f3c4cb",
   "metadata": {
    "slideshow": {
     "slide_type": "fragment"
    }
   },
   "source": [
    "### Required Packages for Colab Execution\n",
    "\n",
    "Execute the following cell to install MONAI the first time a colab notebook is run:"
   ]
  },
  {
   "cell_type": "code",
   "execution_count": 2,
   "id": "bba13cca",
   "metadata": {
    "slideshow": {
     "slide_type": "fragment"
    }
   },
   "outputs": [],
   "source": [
    "!python -c \"import monai\" || pip install -qU \"monai[ignite, nibabel, torchvision, tqdm]==1.1.0\""
   ]
  },
  {
   "cell_type": "markdown",
   "id": "690b3613",
   "metadata": {
    "slideshow": {
     "slide_type": "slide"
    }
   },
   "source": [
    "## End-to-end Training with Pytorch\n",
    "\n",
    "We've covered a lot of material and now it's time to apply the things that we've learned in an end-to-end example using the basic Pytorch paradigm. We'll cover:\n",
    "\n",
    "1. **Setting up our Dataset and exploring the data**\n",
    "2. **Preparing datasets and transforms**\n",
    "3. **Define your network and create our PyTorch training loop**\n",
    "4. **Evaluate your model and understand the results**\n",
    "5. **Later: use Ignite-based workflow classes to simplify process**"
   ]
  },
  {
   "cell_type": "markdown",
   "id": "2226046f",
   "metadata": {
    "slideshow": {
     "slide_type": "slide"
    }
   },
   "source": [
    "### Later: Bundles and Model Zoo\n",
    "\n",
    "* MONAI Bundle format is a self-contained model package with pre-trained weights and all associated metadata abstracted through JSON and YAML-based configurations. By focusing on ease of use and flexibility, you can directly override or customize these configs or utilize a hybrid programming model that supports config to Python Code abstraction.\n",
    "\n",
    "* Model Zoo provides pre-trained models as bundles. With these two components we hope to establish a common standard for reproducible research and collaboration. Everyone is welcome to contribute to this effort by submitting their pre-trained models for downstream tasks."
   ]
  },
  {
   "cell_type": "markdown",
   "id": "f99dede4",
   "metadata": {
    "slideshow": {
     "slide_type": "slide"
    }
   },
   "source": [
    "### Imports\n",
    "\n",
    "Let's get started by importing our dependecies."
   ]
  },
  {
   "cell_type": "code",
   "execution_count": 3,
   "id": "029a1039",
   "metadata": {
    "slideshow": {
     "slide_type": "fragment"
    }
   },
   "outputs": [
    {
     "name": "stderr",
     "output_type": "stream",
     "text": [
      "/home/mzephyr/anaconda3/envs/monai_fix/lib/python3.9/site-packages/tqdm/auto.py:22: TqdmWarning: IProgress not found. Please update jupyter and ipywidgets. See https://ipywidgets.readthedocs.io/en/stable/user_install.html\n",
      "  from .autonotebook import tqdm as notebook_tqdm\n"
     ]
    }
   ],
   "source": [
    "import os\n",
    "import shutil\n",
    "import tempfile\n",
    "from glob import glob\n",
    "\n",
    "import matplotlib.pyplot as plt\n",
    "import numpy as np\n",
    "import PIL\n",
    "\n",
    "import torch\n",
    "from torch.utils.data import DataLoader\n",
    "import monai\n",
    "\n",
    "from monai.apps import download_and_extract\n",
    "from monai.config import print_config\n",
    "from monai.metrics import ROCAUCMetric\n",
    "from monai.data import decollate_batch, partition_dataset_classes\n",
    "from monai.networks.nets import DenseNet121\n",
    "from monai.transforms import (\n",
    "    EnsureChannelFirst, Compose,LoadImage,RandFlip, RandRotate,\n",
    "    RandZoom, ScaleIntensity, Activations, AsDiscrete, EnsureType\n",
    ")\n",
    "from monai.utils import set_determinism"
   ]
  },
  {
   "cell_type": "markdown",
   "id": "19564115",
   "metadata": {
    "slideshow": {
     "slide_type": "slide"
    }
   },
   "source": [
    "### 1. Setting up our Dataset and Exploring the Data"
   ]
  },
  {
   "cell_type": "markdown",
   "id": "1ba6cf03",
   "metadata": {
    "slideshow": {
     "slide_type": "fragment"
    }
   },
   "source": [
    "#### Setup data directory\n",
    "\n",
    "We'll create a temporary directory for all the MONAI data we're going to be using called MONAI_DATA_DIRECTORY."
   ]
  },
  {
   "cell_type": "code",
   "execution_count": 4,
   "id": "5dbc4d02",
   "metadata": {
    "slideshow": {
     "slide_type": "fragment"
    }
   },
   "outputs": [
    {
     "name": "stdout",
     "output_type": "stream",
     "text": [
      "/tmp/tmpc0ntfgs2\n"
     ]
    }
   ],
   "source": [
    "directory = os.environ.get(\"MONAI_DATA_DIRECTORY\")\n",
    "root_dir = tempfile.mkdtemp() if directory is None else directory\n",
    "print(root_dir)"
   ]
  },
  {
   "cell_type": "markdown",
   "id": "2df4a4a4",
   "metadata": {
    "slideshow": {
     "slide_type": "slide"
    }
   },
   "source": [
    "#### Download the MedNIST dataset\n",
    "The `MedNIST` dataset was gathered from several sets from [TCIA](https://wiki.cancerimagingarchive.net/display/Public/Data+Usage+Policies+and+Restrictions),\n",
    "[the RSNA Bone Age Challenge](http://rsnachallenges.cloudapp.net/competitions/4),\n",
    "and [the NIH Chest X-ray dataset](https://cloud.google.com/healthcare/docs/resources/public-datasets/nih-chest).\n",
    "\n",
    "The dataset is kindly made available by [Dr. Bradley J. Erickson M.D., Ph.D.](https://www.mayo.edu/research/labs/radiology-informatics/overview) (Department of Radiology, Mayo Clinic)\n",
    "under the Creative Commons [CC BY-SA 4.0 license](https://creativecommons.org/licenses/by-sa/4.0/). If you use the MedNIST dataset, please acknowledge the source.\n",
    "\n",
    "Download this dataset and extract it into the temp directory:"
   ]
  },
  {
   "cell_type": "code",
   "execution_count": 5,
   "id": "845e62a2",
   "metadata": {
    "slideshow": {
     "slide_type": "fragment"
    }
   },
   "outputs": [
    {
     "name": "stderr",
     "output_type": "stream",
     "text": [
      "MedNIST.tar.gz: 59.0MB [00:02, 21.0MB/s]                              "
     ]
    },
    {
     "name": "stdout",
     "output_type": "stream",
     "text": [
      "2023-01-24 13:33:57,281 - INFO - Downloaded: /tmp/tmpc0ntfgs2/MedNIST.tar.gz\n"
     ]
    },
    {
     "name": "stderr",
     "output_type": "stream",
     "text": [
      "\n"
     ]
    },
    {
     "name": "stdout",
     "output_type": "stream",
     "text": [
      "2023-01-24 13:33:57,364 - INFO - Verified 'MedNIST.tar.gz', md5: 0bc7306e7427e00ad1c5526a6677552d.\n",
      "2023-01-24 13:33:57,365 - INFO - Writing into directory: /tmp/tmpc0ntfgs2.\n"
     ]
    }
   ],
   "source": [
    "resource = \"https://www.dropbox.com/s/5wwskxctvcxiuea/MedNIST.tar.gz?dl=1\"\n",
    "md5 = \"0bc7306e7427e00ad1c5526a6677552d\"\n",
    "\n",
    "compressed_file = os.path.join(root_dir, \"MedNIST.tar.gz\")\n",
    "data_dir = os.path.join(root_dir, \"MedNIST\")\n",
    "if not os.path.exists(data_dir):\n",
    "    download_and_extract(resource, compressed_file, root_dir, md5)"
   ]
  },
  {
   "cell_type": "markdown",
   "id": "b5f60c0a",
   "metadata": {
    "slideshow": {
     "slide_type": "slide"
    }
   },
   "source": [
    "#### Set deterministic training for reproducibility\n",
    "\n",
    "[set_determinism](https://docs.monai.io/en/latest/utils.html?highlight=set_determinism#monai.utils.misc.set_determinism) will set the random seeds in both Numpy and PyTorch to ensure reproducibility. We'll see later that we need to go a little bit further to ensure reproducibility in a jupyter notebook.  For now, we'll also instanitate a seed value that we can use later."
   ]
  },
  {
   "cell_type": "code",
   "execution_count": 6,
   "id": "1981d397",
   "metadata": {
    "slideshow": {
     "slide_type": "fragment"
    }
   },
   "outputs": [],
   "source": [
    "set_determinism(seed=0)\n",
    "rseed = 12345678"
   ]
  },
  {
   "cell_type": "markdown",
   "id": "d52f4544",
   "metadata": {
    "slideshow": {
     "slide_type": "slide"
    }
   },
   "source": [
    "#### Read the image filenames from the dataset folders\n",
    "\n",
    "When using a dataset, you want to understand the basics of the images, labels, and more.  We'll start off by showing some of those basic statistics for MedNIST. \n",
    "\n",
    "We'll then define our own `MedNISTDataset` class for illustrative purposes, although a more robust version is provided in MONAI.\n",
    "\n",
    "MedNIST has 6 different folders representing 6 different categories: Hand, AbdomenCT, CXR, ChestCT, BreastMRI, HeadCT.  We'll be using each of these categories as our label names. "
   ]
  },
  {
   "cell_type": "code",
   "execution_count": 7,
   "id": "a65125ec",
   "metadata": {
    "slideshow": {
     "slide_type": "slide"
    }
   },
   "outputs": [
    {
     "name": "stdout",
     "output_type": "stream",
     "text": [
      "Total image count: 58954\n",
      "Image dimensions: 64 x 64\n",
      "Label names: ['AbdomenCT', 'BreastMRI', 'CXR', 'ChestCT', 'Hand', 'HeadCT']\n",
      "Label counts: [10000, 8954, 10000, 10000, 10000, 10000]\n"
     ]
    }
   ],
   "source": [
    "subdirs = sorted(filter(os.path.isdir, glob(f\"{data_dir}/*\")))\n",
    "class_names = list(map(os.path.basename, subdirs))\n",
    "num_class = len(class_names)\n",
    "\n",
    "image_files = [sorted(glob(f\"{d}/*\")) for d in subdirs]\n",
    "\n",
    "num_each = [len(image_files[i]) for i in range(num_class)]\n",
    "image_files_list = sum(image_files, [])\n",
    "image_class = sum([[i] * n for i, n in enumerate(num_each)], [])\n",
    "\n",
    "num_total = len(image_class)\n",
    "image_width, image_height = PIL.Image.open(image_files_list[0]).size\n",
    "\n",
    "print(f\"Total image count: {num_total}\")\n",
    "print(f\"Image dimensions: {image_width} x {image_height}\")\n",
    "print(f\"Label names: {class_names}\")\n",
    "print(f\"Label counts: {num_each}\")"
   ]
  },
  {
   "cell_type": "markdown",
   "id": "52a405db",
   "metadata": {
    "slideshow": {
     "slide_type": "slide"
    }
   },
   "source": [
    "#### Randomly pick images from the dataset to visualize and check\n",
    "\n",
    "We want to understand what the images we're using look like, so we'll start by visualizing a few random images."
   ]
  },
  {
   "cell_type": "code",
   "execution_count": 23,
   "id": "b4164108",
   "metadata": {
    "slideshow": {
     "slide_type": "fragment"
    }
   },
   "outputs": [
    {
     "data": {
      "image/png": "[encoded data removed]",
      "text/plain": [
       "<Figure size 800x400 with 10 Axes>"
      ]
     },
     "metadata": {},
     "output_type": "display_data"
    }
   ],
   "source": [
    "plt.subplots(2, 5, figsize=(8, 4))\n",
    "for i, k in enumerate(np.random.randint(num_total, size=10)):\n",
    "    im = PIL.Image.open(image_files_list[k])\n",
    "    plt.subplot(2, 5, i + 1)\n",
    "    plt.axis(\"off\")\n",
    "    plt.title(class_names[image_class[k]])\n",
    "    plt.imshow(np.array(im), cmap=\"gray\", vmin=0, vmax=255)"
   ]
  },
  {
   "cell_type": "markdown",
   "id": "41aa5271",
   "metadata": {
    "slideshow": {
     "slide_type": "slide"
    }
   },
   "source": [
    "## 2. Preparing datasets and transforms\n",
    "\n",
    "We want to split the data into 3 different sets, one for training, one for validation, and one for testing.  We'll use a ratio of 80/10/10 for those sets.\n",
    "\n",
    "[MONAI Documentation](https://docs.monai.io/en/stable/)\n",
    "\n",
    "<div class=\"alert alert-block alert-info\">\n",
    "    <b>Activity</b>\n",
    "\n",
    "- Utilize the partition_dataset_classes function to properly split the dataset into parts\n",
    "- Make sure you use the rseed variable from above in your partition_dataset_classes function to ensure reproducability\n",
    "- We'll use an 80/10/10 split for the dataset\n",
    "- Use the parts to create the new image lists and label lists\n",
    "- Create new train, val, and test subsets, eaching having an image list (ie. `train_x`) and label list (`train_y`)\n",
    "\n",
    "</div>"
   ]
  },
  {
   "cell_type": "code",
   "execution_count": 9,
   "id": "4142f52d",
   "metadata": {
    "slideshow": {
     "slide_type": "slide"
    }
   },
   "outputs": [
    {
     "name": "stdout",
     "output_type": "stream",
     "text": [
      "Training count: 47163, Validation count: 5895, Test count: 5895\n"
     ]
    }
   ],
   "source": [
    "parts = partition_dataset_classes(\n",
    "    data=np.arange(len(image_files_list)), \n",
    "    classes=image_class, \n",
    "    ratios=(8, 1, 1), \n",
    "    shuffle=True, \n",
    "    seed=rseed\n",
    ")\n",
    "\n",
    "image_sets = [list(), list(), list()]\n",
    "label_sets = [list(), list(), list()]\n",
    "\n",
    "for i, part in enumerate(parts):\n",
    "    image_sets[i] = [image_files_list[idx] for idx in part]\n",
    "    label_sets[i] = [image_class[idx] for idx in part]\n",
    "\n",
    "train_x, val_x, test_x = image_sets\n",
    "train_y, val_y, test_y = label_sets\n",
    "\n",
    "print(f\"Training count: {len(train_x)}, Validation count: {len(val_x)}, Test count: {len(test_x)}\")"
   ]
  },
  {
   "cell_type": "markdown",
   "id": "a532d7a7",
   "metadata": {
    "slideshow": {
     "slide_type": "slide"
    }
   },
   "source": [
    "#### Define MONAI transforms, Dataset and Dataloader to pre-process data\n",
    "\n",
    "We'll define our transform sequence with `Compose`, in which we'll load the image, add a channel, scale its intensity, and utilize a few random functions.\n",
    "\n",
    "[MONAI Documentation](https://docs.monai.io/en/stable/)\n",
    "\n",
    "<div class=\"alert alert-block alert-info\">\n",
    "    <b>Activity</b>\n",
    "    \n",
    "Below you'll define the Compose trainsform train for the training data.  You'll need the following transforms:\n",
    "    \n",
    "- Load Image\n",
    "- Ensure Channel First\n",
    "- Scale Intensity\n",
    "- Random Rotate, Flip, and Zoom\n",
    "\n",
    "</div>"
   ]
  },
  {
   "cell_type": "code",
   "execution_count": 10,
   "id": "6314e5b0",
   "metadata": {
    "slideshow": {
     "slide_type": "slide"
    }
   },
   "outputs": [],
   "source": [
    "rseed = 12345678\n",
    "\n",
    "train_transforms = Compose(\n",
    "    [\n",
    "        LoadImage(image_only=True),\n",
    "        EnsureChannelFirst(),\n",
    "        ScaleIntensity(),\n",
    "        RandRotate(range_x=15, prob=0.5, keep_size=True).set_random_state(rseed),\n",
    "        RandFlip(spatial_axis=0, prob=0.5).set_random_state(rseed),\n",
    "        RandZoom(min_zoom=0.9, max_zoom=1.1, prob=0.5).set_random_state(rseed),\n",
    "    ]\n",
    ")\n",
    "\n",
    "val_transforms = Compose([LoadImage(image_only=True), EnsureChannelFirst(), ScaleIntensity()])\n",
    "\n",
    "act = Compose([Activations(softmax=True)])\n",
    "to_onehot = Compose([AsDiscrete(to_onehot=num_class)])"
   ]
  },
  {
   "cell_type": "code",
   "execution_count": 22,
   "id": "0d76c429-df17-4709-80d4-c46e88d694b0",
   "metadata": {},
   "outputs": [
    {
     "data": {
      "image/png": "[encoded data removed]",
      "text/plain": [
       "<Figure size 400x400 with 3 Axes>"
      ]
     },
     "metadata": {},
     "output_type": "display_data"
    }
   ],
   "source": [
    "### Transform Test Functionality\n",
    "plt.subplots(1, 3, figsize=(4, 4))\n",
    "for i in range(0,3):\n",
    "    test_output = train_transforms(image_files_list[i])\n",
    "    #test_output = val_transforms(image_files_list[i])    \n",
    "    \n",
    "    arr = np.array(test_output[0])\n",
    "    plt.subplot(1, 3, i + 1)\n",
    "    plt.xlabel(class_names[image_class[k]])\n",
    "    plt.imshow(arr, cmap=\"gray\", vmin=0, vmax=1)\n",
    "plt.tight_layout()\n",
    "plt.show()"
   ]
  },
  {
   "cell_type": "markdown",
   "id": "d5951933",
   "metadata": {
    "slideshow": {
     "slide_type": "slide"
    }
   },
   "source": [
    "#### Initialise the datasets and loaders for training, validation and test sets\n",
    " * Define a simple dataset, that we'll call `MedNISTDataset`, that groups:\n",
    "   * Images\n",
    "   * Labels\n",
    "   * The transforms that are to be run on the images and labels\n",
    " * Create three instances of this dataset:\n",
    "   * One for training\n",
    "   * One for validation\n",
    "   * One for testing\n",
    "   \n",
    "We'll use a batch size of 512 and employ 10 workers to load the data."
   ]
  },
  {
   "cell_type": "code",
   "execution_count": 12,
   "id": "c7d34ddf",
   "metadata": {
    "slideshow": {
     "slide_type": "slide"
    }
   },
   "outputs": [],
   "source": [
    "batch_size = 512\n",
    "num_workers = 10\n",
    "\n",
    "class MedNISTDataset(torch.utils.data.Dataset):\n",
    "    def __init__(self, image_files, labels, transforms):\n",
    "        self.image_files = image_files\n",
    "        self.labels = labels\n",
    "        self.transforms = transforms\n",
    "\n",
    "    def __len__(self):\n",
    "        return len(self.image_files)\n",
    "\n",
    "    def __getitem__(self, index):\n",
    "        return self.transforms(self.image_files[index]), self.labels[index]\n",
    "\n",
    "\n",
    "train_ds = MedNISTDataset(train_x, train_y, train_transforms)\n",
    "train_loader = DataLoader(train_ds, batch_size=batch_size, shuffle=True, num_workers=num_workers)\n",
    "\n",
    "val_ds = MedNISTDataset(val_x, val_y, val_transforms)\n",
    "val_loader = DataLoader(val_ds, batch_size=batch_size, num_workers=num_workers)\n",
    "\n",
    "test_ds = MedNISTDataset(test_x, test_y, val_transforms)\n",
    "test_loader = DataLoader(test_ds, batch_size=batch_size, num_workers=num_workers)"
   ]
  },
  {
   "cell_type": "markdown",
   "id": "ea161d42",
   "metadata": {
    "slideshow": {
     "slide_type": "slide"
    }
   },
   "source": [
    "#### Define network and optimizer\n",
    "\n",
    "We'll make sure to set the relevant values for getting our device and instantiating our network, loss function and optimizer.\n",
    "\n",
    "[MONAI Documentation](https://docs.monai.io/en/stable/)\n",
    "\n",
    "<div class=\"alert alert-block alert-info\">\n",
    "    <b>Activity</b>\n",
    "    \n",
    "Do the following:\n",
    "1. Get the device for a GPU from torch\n",
    "2. Instantiate DenseNet121.  You'll need to set Spatial Dimension to 2 and Input Channels to 1 and output channels to the number of classes from our data exploration above.\n",
    "3. Instantiate the Torch CrossEntropy Loss function\n",
    "4. Instantiate the Torch  Adam Optimizer with a learning rate of 1e-5  \n",
    "</div>"
   ]
  },
  {
   "cell_type": "code",
   "execution_count": 13,
   "id": "003cc896",
   "metadata": {
    "slideshow": {
     "slide_type": "slide"
    }
   },
   "outputs": [],
   "source": [
    "learning_rate = 1e-5\n",
    "device = torch.device(\"cuda:0\" if torch.cuda.is_available() else \"cpu\")\n",
    "net = DenseNet121(spatial_dims=2, in_channels=1, out_channels=num_class).to(device)\n",
    "loss_function = torch.nn.CrossEntropyLoss()\n",
    "optimizer = torch.optim.Adam(net.parameters(), learning_rate)"
   ]
  },
  {
   "cell_type": "markdown",
   "id": "88527bd5",
   "metadata": {
    "slideshow": {
     "slide_type": "slide"
    }
   },
   "source": [
    "#### Network training\n",
    "We are hand-rolling a basic pytorch training loop here:\n",
    " * standard pytorch training loop\n",
    "   * step through each training epoch, running through the training set in batches\n",
    "   * after each epoch, run a validation pass, evaluating the network\n",
    "   * if it shows improved performance, save out the model weights\n",
    " * later we will revisit training loops in a more Ignite / MONAI fashion"
   ]
  },
  {
   "cell_type": "code",
   "execution_count": 16,
   "id": "d2fe3627",
   "metadata": {
    "slideshow": {
     "slide_type": "slide"
    }
   },
   "outputs": [
    {
     "name": "stdout",
     "output_type": "stream",
     "text": [
      "----------\n",
      "epoch 1/4\n",
      "1/93, training_loss: 0.5757\n",
      "2/93, training_loss: 0.5457\n",
      "3/93, training_loss: 0.5096\n",
      "4/93, training_loss: 0.5574\n",
      "5/93, training_loss: 0.5178\n",
      "6/93, training_loss: 0.5332\n",
      "7/93, training_loss: 0.5015\n",
      "8/93, training_loss: 0.5009\n",
      "9/93, training_loss: 0.4952\n",
      "10/93, training_loss: 0.5288\n",
      "11/93, training_loss: 0.4782\n",
      "12/93, training_loss: 0.5016\n",
      "13/93, training_loss: 0.4651\n",
      "14/93, training_loss: 0.4986\n",
      "15/93, training_loss: 0.4805\n",
      "16/93, training_loss: 0.4700\n",
      "17/93, training_loss: 0.4468\n",
      "18/93, training_loss: 0.4378\n",
      "19/93, training_loss: 0.4693\n",
      "20/93, training_loss: 0.4329\n",
      "21/93, training_loss: 0.4650\n",
      "22/93, training_loss: 0.4127\n",
      "23/93, training_loss: 0.4075\n",
      "24/93, training_loss: 0.4253\n",
      "25/93, training_loss: 0.4386\n",
      "26/93, training_loss: 0.4053\n",
      "27/93, training_loss: 0.4103\n",
      "28/93, training_loss: 0.4030\n",
      "29/93, training_loss: 0.3886\n",
      "30/93, training_loss: 0.3909\n",
      "31/93, training_loss: 0.3858\n",
      "32/93, training_loss: 0.3741\n",
      "33/93, training_loss: 0.3813\n",
      "34/93, training_loss: 0.3689\n",
      "35/93, training_loss: 0.3671\n",
      "36/93, training_loss: 0.3586\n",
      "37/93, training_loss: 0.3663\n",
      "38/93, training_loss: 0.3579\n",
      "39/93, training_loss: 0.3487\n",
      "40/93, training_loss: 0.3418\n",
      "41/93, training_loss: 0.3372\n",
      "42/93, training_loss: 0.3948\n",
      "43/93, training_loss: 0.3635\n",
      "44/93, training_loss: 0.3350\n",
      "45/93, training_loss: 0.3418\n",
      "46/93, training_loss: 0.3732\n",
      "47/93, training_loss: 0.3314\n",
      "48/93, training_loss: 0.3524\n",
      "49/93, training_loss: 0.3325\n",
      "50/93, training_loss: 0.3256\n",
      "51/93, training_loss: 0.3184\n",
      "52/93, training_loss: 0.3750\n",
      "53/93, training_loss: 0.3232\n",
      "54/93, training_loss: 0.2970\n",
      "55/93, training_loss: 0.3220\n",
      "56/93, training_loss: 0.2933\n",
      "57/93, training_loss: 0.3335\n",
      "58/93, training_loss: 0.3115\n",
      "59/93, training_loss: 0.2924\n",
      "60/93, training_loss: 0.2825\n",
      "61/93, training_loss: 0.2644\n",
      "62/93, training_loss: 0.3053\n",
      "63/93, training_loss: 0.2943\n",
      "64/93, training_loss: 0.2950\n",
      "65/93, training_loss: 0.2860\n",
      "66/93, training_loss: 0.2898\n",
      "67/93, training_loss: 0.2911\n",
      "68/93, training_loss: 0.2975\n",
      "69/93, training_loss: 0.2764\n",
      "70/93, training_loss: 0.2522\n",
      "71/93, training_loss: 0.2674\n",
      "72/93, training_loss: 0.2660\n",
      "73/93, training_loss: 0.2598\n",
      "74/93, training_loss: 0.2598\n",
      "75/93, training_loss: 0.2778\n",
      "76/93, training_loss: 0.2469\n",
      "77/93, training_loss: 0.2400\n",
      "78/93, training_loss: 0.2413\n",
      "79/93, training_loss: 0.2740\n",
      "80/93, training_loss: 0.2450\n",
      "81/93, training_loss: 0.2586\n",
      "82/93, training_loss: 0.2652\n",
      "83/93, training_loss: 0.2468\n",
      "84/93, training_loss: 0.2518\n",
      "85/93, training_loss: 0.2301\n",
      "86/93, training_loss: 0.2397\n",
      "87/93, training_loss: 0.2047\n",
      "88/93, training_loss: 0.2562\n",
      "89/93, training_loss: 0.2498\n",
      "90/93, training_loss: 0.2414\n",
      "91/93, training_loss: 0.2329\n",
      "92/93, training_loss: 0.2369\n",
      "93/93, training_loss: 0.2148\n",
      "epoch 1 average loss: 0.3504\n",
      "saved new best metric network\n",
      "current epoch: 1 current AUC: 0.9982 / current accuracy: 0.9654 best AUC: 0.9982 / at epoch: 1\n",
      "----------\n",
      "epoch 2/4\n",
      "1/93, training_loss: 0.2330\n",
      "2/93, training_loss: 0.1977\n",
      "3/93, training_loss: 0.2230\n",
      "4/93, training_loss: 0.2490\n",
      "5/93, training_loss: 0.2323\n",
      "6/93, training_loss: 0.2329\n",
      "7/93, training_loss: 0.2182\n",
      "8/93, training_loss: 0.2327\n",
      "9/93, training_loss: 0.2246\n",
      "10/93, training_loss: 0.2100\n",
      "11/93, training_loss: 0.1809\n",
      "12/93, training_loss: 0.2077\n",
      "13/93, training_loss: 0.2213\n",
      "14/93, training_loss: 0.2231\n",
      "15/93, training_loss: 0.2139\n",
      "16/93, training_loss: 0.1927\n",
      "17/93, training_loss: 0.2267\n",
      "18/93, training_loss: 0.2314\n",
      "19/93, training_loss: 0.1934\n",
      "20/93, training_loss: 0.1902\n",
      "21/93, training_loss: 0.1727\n",
      "22/93, training_loss: 0.2122\n",
      "23/93, training_loss: 0.1995\n",
      "24/93, training_loss: 0.1797\n",
      "25/93, training_loss: 0.1787\n",
      "26/93, training_loss: 0.1946\n",
      "27/93, training_loss: 0.2189\n",
      "28/93, training_loss: 0.1881\n",
      "29/93, training_loss: 0.1759\n",
      "30/93, training_loss: 0.1598\n",
      "31/93, training_loss: 0.1708\n",
      "32/93, training_loss: 0.1649\n",
      "33/93, training_loss: 0.1798\n",
      "34/93, training_loss: 0.1744\n",
      "35/93, training_loss: 0.1738\n",
      "36/93, training_loss: 0.1579\n",
      "37/93, training_loss: 0.1761\n",
      "38/93, training_loss: 0.1571\n",
      "39/93, training_loss: 0.1584\n",
      "40/93, training_loss: 0.1833\n",
      "41/93, training_loss: 0.1746\n",
      "42/93, training_loss: 0.1456\n",
      "43/93, training_loss: 0.1749\n",
      "44/93, training_loss: 0.1687\n",
      "45/93, training_loss: 0.1667\n",
      "46/93, training_loss: 0.1477\n",
      "47/93, training_loss: 0.1789\n",
      "48/93, training_loss: 0.1511\n",
      "49/93, training_loss: 0.1530\n",
      "50/93, training_loss: 0.1495\n",
      "51/93, training_loss: 0.1639\n",
      "52/93, training_loss: 0.1618\n",
      "53/93, training_loss: 0.1554\n",
      "54/93, training_loss: 0.1365\n",
      "55/93, training_loss: 0.1536\n",
      "56/93, training_loss: 0.1469\n",
      "57/93, training_loss: 0.1608\n",
      "58/93, training_loss: 0.1528\n",
      "59/93, training_loss: 0.1400\n",
      "60/93, training_loss: 0.1597\n",
      "61/93, training_loss: 0.1251\n",
      "62/93, training_loss: 0.1499\n",
      "63/93, training_loss: 0.1378\n",
      "64/93, training_loss: 0.1625\n",
      "65/93, training_loss: 0.1259\n",
      "66/93, training_loss: 0.1656\n",
      "67/93, training_loss: 0.1280\n",
      "68/93, training_loss: 0.1250\n",
      "69/93, training_loss: 0.1498\n",
      "70/93, training_loss: 0.1359\n",
      "71/93, training_loss: 0.1578\n",
      "72/93, training_loss: 0.1381\n",
      "73/93, training_loss: 0.1444\n",
      "74/93, training_loss: 0.1348\n",
      "75/93, training_loss: 0.1144\n",
      "76/93, training_loss: 0.1359\n",
      "77/93, training_loss: 0.1258\n",
      "78/93, training_loss: 0.1427\n",
      "79/93, training_loss: 0.1482\n",
      "80/93, training_loss: 0.1286\n",
      "81/93, training_loss: 0.1600\n",
      "82/93, training_loss: 0.1303\n",
      "83/93, training_loss: 0.1341\n",
      "84/93, training_loss: 0.1559\n",
      "85/93, training_loss: 0.1449\n",
      "86/93, training_loss: 0.1402\n",
      "87/93, training_loss: 0.1379\n",
      "88/93, training_loss: 0.1508\n",
      "89/93, training_loss: 0.1340\n",
      "90/93, training_loss: 0.1348\n",
      "91/93, training_loss: 0.1292\n",
      "92/93, training_loss: 0.1373\n",
      "93/93, training_loss: 0.1200\n",
      "epoch 2 average loss: 0.1664\n",
      "saved new best metric network\n",
      "current epoch: 2 current AUC: 0.9996 / current accuracy: 0.9807 best AUC: 0.9996 / at epoch: 2\n",
      "----------\n",
      "epoch 3/4\n",
      "1/93, training_loss: 0.1352\n",
      "2/93, training_loss: 0.1274\n",
      "3/93, training_loss: 0.1207\n",
      "4/93, training_loss: 0.1337\n",
      "5/93, training_loss: 0.1205\n",
      "6/93, training_loss: 0.1087\n",
      "7/93, training_loss: 0.1168\n",
      "8/93, training_loss: 0.1301\n",
      "9/93, training_loss: 0.1318\n",
      "10/93, training_loss: 0.1298\n",
      "11/93, training_loss: 0.1193\n",
      "12/93, training_loss: 0.1222\n",
      "13/93, training_loss: 0.1438\n",
      "14/93, training_loss: 0.1205\n",
      "15/93, training_loss: 0.1047\n",
      "16/93, training_loss: 0.1008\n",
      "17/93, training_loss: 0.1064\n",
      "18/93, training_loss: 0.1176\n",
      "19/93, training_loss: 0.1248\n",
      "20/93, training_loss: 0.1273\n",
      "21/93, training_loss: 0.0945\n",
      "22/93, training_loss: 0.1122\n",
      "23/93, training_loss: 0.1171\n",
      "24/93, training_loss: 0.0912\n",
      "25/93, training_loss: 0.1144\n",
      "26/93, training_loss: 0.1116\n",
      "27/93, training_loss: 0.0969\n",
      "28/93, training_loss: 0.1022\n",
      "29/93, training_loss: 0.0900\n",
      "30/93, training_loss: 0.1186\n",
      "31/93, training_loss: 0.1001\n",
      "32/93, training_loss: 0.1073\n",
      "33/93, training_loss: 0.1128\n",
      "34/93, training_loss: 0.1063\n",
      "35/93, training_loss: 0.1063\n",
      "36/93, training_loss: 0.1233\n",
      "37/93, training_loss: 0.0897\n",
      "38/93, training_loss: 0.0942\n",
      "39/93, training_loss: 0.1021\n",
      "40/93, training_loss: 0.0992\n",
      "41/93, training_loss: 0.1066\n",
      "42/93, training_loss: 0.1185\n",
      "43/93, training_loss: 0.1173\n",
      "44/93, training_loss: 0.1072\n",
      "45/93, training_loss: 0.0837\n",
      "46/93, training_loss: 0.1348\n",
      "47/93, training_loss: 0.1056\n",
      "48/93, training_loss: 0.0852\n",
      "49/93, training_loss: 0.0892\n",
      "50/93, training_loss: 0.0941\n",
      "51/93, training_loss: 0.0793\n",
      "52/93, training_loss: 0.0776\n",
      "53/93, training_loss: 0.1059\n",
      "54/93, training_loss: 0.0785\n",
      "55/93, training_loss: 0.0891\n",
      "56/93, training_loss: 0.1144\n",
      "57/93, training_loss: 0.0943\n",
      "58/93, training_loss: 0.0957\n",
      "59/93, training_loss: 0.0911\n",
      "60/93, training_loss: 0.1084\n",
      "61/93, training_loss: 0.0954\n",
      "62/93, training_loss: 0.0824\n",
      "63/93, training_loss: 0.0854\n",
      "64/93, training_loss: 0.0963\n",
      "65/93, training_loss: 0.0938\n",
      "66/93, training_loss: 0.0845\n",
      "67/93, training_loss: 0.0745\n",
      "68/93, training_loss: 0.1124\n",
      "69/93, training_loss: 0.0864\n",
      "70/93, training_loss: 0.0979\n",
      "71/93, training_loss: 0.1076\n",
      "72/93, training_loss: 0.0750\n",
      "73/93, training_loss: 0.0762\n",
      "74/93, training_loss: 0.0960\n",
      "75/93, training_loss: 0.0825\n",
      "76/93, training_loss: 0.1016\n",
      "77/93, training_loss: 0.0779\n",
      "78/93, training_loss: 0.0889\n",
      "79/93, training_loss: 0.0821\n",
      "80/93, training_loss: 0.0854\n",
      "81/93, training_loss: 0.1060\n",
      "82/93, training_loss: 0.0923\n",
      "83/93, training_loss: 0.0832\n",
      "84/93, training_loss: 0.0958\n",
      "85/93, training_loss: 0.1135\n",
      "86/93, training_loss: 0.0986\n",
      "87/93, training_loss: 0.0865\n",
      "88/93, training_loss: 0.0970\n",
      "89/93, training_loss: 0.0883\n",
      "90/93, training_loss: 0.0876\n",
      "91/93, training_loss: 0.0906\n",
      "92/93, training_loss: 0.0677\n",
      "93/93, training_loss: 0.0413\n",
      "epoch 3 average loss: 0.1004\n",
      "saved new best metric network\n",
      "current epoch: 3 current AUC: 0.9998 / current accuracy: 0.9876 best AUC: 0.9998 / at epoch: 3\n",
      "----------\n",
      "epoch 4/4\n",
      "1/93, training_loss: 0.0927\n",
      "2/93, training_loss: 0.0934\n",
      "3/93, training_loss: 0.0737\n",
      "4/93, training_loss: 0.0885\n",
      "5/93, training_loss: 0.0963\n",
      "6/93, training_loss: 0.0748\n",
      "7/93, training_loss: 0.0564\n",
      "8/93, training_loss: 0.0616\n",
      "9/93, training_loss: 0.0655\n",
      "10/93, training_loss: 0.0707\n",
      "11/93, training_loss: 0.0810\n",
      "12/93, training_loss: 0.0717\n",
      "13/93, training_loss: 0.0891\n",
      "14/93, training_loss: 0.0872\n",
      "15/93, training_loss: 0.0842\n",
      "16/93, training_loss: 0.0588\n",
      "17/93, training_loss: 0.0617\n",
      "18/93, training_loss: 0.0828\n",
      "19/93, training_loss: 0.0760\n",
      "20/93, training_loss: 0.0721\n",
      "21/93, training_loss: 0.0681\n",
      "22/93, training_loss: 0.0792\n",
      "23/93, training_loss: 0.0812\n",
      "24/93, training_loss: 0.0838\n",
      "25/93, training_loss: 0.0676\n",
      "26/93, training_loss: 0.0799\n",
      "27/93, training_loss: 0.0657\n",
      "28/93, training_loss: 0.0768\n",
      "29/93, training_loss: 0.0736\n",
      "30/93, training_loss: 0.0757\n",
      "31/93, training_loss: 0.0706\n",
      "32/93, training_loss: 0.0719\n",
      "33/93, training_loss: 0.0785\n",
      "34/93, training_loss: 0.0592\n",
      "35/93, training_loss: 0.1027\n",
      "36/93, training_loss: 0.0774\n",
      "37/93, training_loss: 0.0632\n",
      "38/93, training_loss: 0.0718\n",
      "39/93, training_loss: 0.0898\n",
      "40/93, training_loss: 0.0662\n",
      "41/93, training_loss: 0.0683\n",
      "42/93, training_loss: 0.0530\n",
      "43/93, training_loss: 0.0625\n",
      "44/93, training_loss: 0.0596\n",
      "45/93, training_loss: 0.0759\n",
      "46/93, training_loss: 0.0717\n",
      "47/93, training_loss: 0.0728\n",
      "48/93, training_loss: 0.0631\n",
      "49/93, training_loss: 0.0825\n",
      "50/93, training_loss: 0.0679\n",
      "51/93, training_loss: 0.1006\n",
      "52/93, training_loss: 0.0609\n",
      "53/93, training_loss: 0.0703\n",
      "54/93, training_loss: 0.0766\n",
      "55/93, training_loss: 0.0541\n",
      "56/93, training_loss: 0.0870\n",
      "57/93, training_loss: 0.0630\n",
      "58/93, training_loss: 0.0704\n",
      "59/93, training_loss: 0.0655\n",
      "60/93, training_loss: 0.0473\n",
      "61/93, training_loss: 0.0592\n",
      "62/93, training_loss: 0.0693\n",
      "63/93, training_loss: 0.0764\n",
      "64/93, training_loss: 0.0624\n",
      "65/93, training_loss: 0.0815\n",
      "66/93, training_loss: 0.1042\n",
      "67/93, training_loss: 0.0597\n",
      "68/93, training_loss: 0.0582\n",
      "69/93, training_loss: 0.0697\n",
      "70/93, training_loss: 0.0808\n",
      "71/93, training_loss: 0.0611\n",
      "72/93, training_loss: 0.0870\n",
      "73/93, training_loss: 0.0712\n",
      "74/93, training_loss: 0.0882\n",
      "75/93, training_loss: 0.0648\n",
      "76/93, training_loss: 0.0776\n",
      "77/93, training_loss: 0.0742\n",
      "78/93, training_loss: 0.0577\n",
      "79/93, training_loss: 0.0687\n",
      "80/93, training_loss: 0.0732\n",
      "81/93, training_loss: 0.0618\n",
      "82/93, training_loss: 0.0610\n",
      "83/93, training_loss: 0.0592\n",
      "84/93, training_loss: 0.0642\n",
      "85/93, training_loss: 0.0569\n",
      "86/93, training_loss: 0.0884\n",
      "87/93, training_loss: 0.0631\n",
      "88/93, training_loss: 0.0738\n",
      "89/93, training_loss: 0.0573\n",
      "90/93, training_loss: 0.0652\n",
      "91/93, training_loss: 0.0582\n",
      "92/93, training_loss: 0.0567\n",
      "93/93, training_loss: 0.0642\n",
      "epoch 4 average loss: 0.0712\n",
      "saved new best metric network\n",
      "current epoch: 4 current AUC: 0.9999 / current accuracy: 0.9924 best AUC: 0.9999 / at epoch: 4\n",
      "train completed, best_metric: 0.9999 at epoch: 4\n"
     ]
    }
   ],
   "source": [
    "epoch_num = 4\n",
    "best_metric = -1\n",
    "best_metric_epoch = -1\n",
    "epoch_loss_values = list()\n",
    "metric_values = list()\n",
    "auc_metric = ROCAUCMetric()\n",
    "\n",
    "for epoch in range(epoch_num):\n",
    "    print(\"-\" * 10)\n",
    "    print(f\"epoch {epoch + 1}/{epoch_num}\")\n",
    "\n",
    "    epoch_loss = 0\n",
    "    step = 1\n",
    "\n",
    "    steps_per_epoch = len(train_ds) // train_loader.batch_size\n",
    "\n",
    "    # put the network in train mode; this tells the network and its modules to\n",
    "    # enable training elements such as normalisation and dropout, where applicable\n",
    "    net.train()\n",
    "    for batch_data in train_loader:\n",
    "\n",
    "        # move the data to the GPU\n",
    "        inputs, labels = batch_data[0].to(device), batch_data[1].to(device)\n",
    "\n",
    "        # prepare the gradients for this step's back propagation\n",
    "        optimizer.zero_grad()\n",
    "        \n",
    "        # run the network forwards\n",
    "        outputs = net(inputs)\n",
    "        \n",
    "        # run the loss function on the outputs\n",
    "        loss = loss_function(outputs, labels)\n",
    "        \n",
    "        # compute the gradients\n",
    "        loss.backward()\n",
    "        \n",
    "        # tell the optimizer to update the weights according to the gradients\n",
    "        # and its internal optimisation strategy\n",
    "        optimizer.step()\n",
    "\n",
    "        epoch_loss += loss.item()\n",
    "        print(f\"{step}/{len(train_ds) // train_loader.batch_size + 1}, training_loss: {loss.item():.4f}\")\n",
    "        step += 1\n",
    "\n",
    "    epoch_loss /= step\n",
    "    epoch_loss_values.append(epoch_loss)\n",
    "    print(f\"epoch {epoch + 1} average loss: {epoch_loss:.4f}\")\n",
    "\n",
    "    # after each epoch, run our metrics to evaluate it, and, if they are an improvement,\n",
    "    # save the model out\n",
    "    \n",
    "    # switch off training features of the network for this pass\n",
    "    net.eval()\n",
    "\n",
    "    # 'with torch.no_grad()' switches off gradient calculation for the scope of its context\n",
    "    with torch.no_grad():\n",
    "        # create lists to which we will concatenate the the validation results\n",
    "        preds = list()\n",
    "        labels = list()\n",
    "\n",
    "        # iterate over each batch of images and run them through the network in evaluation mode\n",
    "        for val_data in val_loader:\n",
    "            val_images, val_labels = val_data[0].to(device), val_data[1].to(device)\n",
    "\n",
    "            # run the network\n",
    "            val_pred = net(val_images)\n",
    "\n",
    "            preds.append(val_pred)\n",
    "            labels.append(val_labels)\n",
    "\n",
    "        # concatenate the predicted labels with each other and the actual labels with each other\n",
    "        y_pred = torch.cat(preds)\n",
    "        y = torch.cat(labels)\n",
    "\n",
    "        # we are using the area under the receiver operating characteristic (ROC) curve to determine\n",
    "        # whether this epoch has improved the best performance of the network so far, in which case\n",
    "        # we save the network in this state\n",
    "        y_onehot = [to_onehot(i) for i in decollate_batch(y, detach=False)]        \n",
    "        y_pred_act = [act(i) for i in decollate_batch(y_pred)]\n",
    "        \n",
    "        auc_metric(y_pred_act, y_onehot)\n",
    "        auc_value = auc_metric.aggregate()\n",
    "        auc_metric.reset()\n",
    "        metric_values.append(auc_value)\n",
    "        \n",
    "        acc_value = torch.eq(y_pred.argmax(dim=1), y)\n",
    "        acc_metric = acc_value.sum().item() / len(acc_value)\n",
    "        \n",
    "        if auc_value > best_metric:\n",
    "            best_metric = auc_value\n",
    "            best_metric_epoch = epoch + 1\n",
    "            torch.save(net.state_dict(), os.path.join(root_dir, \"best_metric_model.pth\"))\n",
    "            print(\"saved new best metric network\")\n",
    "            \n",
    "        print(\n",
    "            f\"current epoch: {epoch + 1} current AUC: {auc_value:.4f} /\"\n",
    "            f\" current accuracy: {acc_metric:.4f} best AUC: {best_metric:.4f} /\"\n",
    "            f\" at epoch: {best_metric_epoch}\"\n",
    "        )\n",
    "\n",
    "print(f\"train completed, best_metric: {best_metric:.4f} at epoch: {best_metric_epoch}\")"
   ]
  },
  {
   "cell_type": "markdown",
   "id": "3d7a48ed",
   "metadata": {
    "slideshow": {
     "slide_type": "slide"
    }
   },
   "source": [
    "#### Plot the loss and metric\n",
    "\n",
    "Once we're done training we want to visualize our Loss and Accuracy."
   ]
  },
  {
   "cell_type": "code",
   "execution_count": 17,
   "id": "9816b762",
   "metadata": {
    "slideshow": {
     "slide_type": "fragment"
    }
   },
   "outputs": [
    {
     "data": {
      "image/png": "[encoded data removed]",
      "text/plain": [
       "<Figure size 1200x600 with 2 Axes>"
      ]
     },
     "metadata": {},
     "output_type": "display_data"
    }
   ],
   "source": [
    "plt.figure(\"train\", (12, 6))\n",
    "plt.subplot(1, 2, 1)\n",
    "plt.title(\"Epoch Average Loss\")\n",
    "x = [i + 1 for i in range(len(epoch_loss_values))]\n",
    "y = epoch_loss_values\n",
    "plt.xlabel(\"epoch\")\n",
    "plt.plot(x, y)\n",
    "plt.subplot(1, 2, 2)\n",
    "plt.title(\"Val AUC\")\n",
    "x = [(i + 1) for i in range(len(metric_values))]\n",
    "y = metric_values\n",
    "plt.xlabel(\"epoch\")\n",
    "plt.plot(x, y)\n",
    "plt.show()"
   ]
  },
  {
   "cell_type": "markdown",
   "id": "f7fdeec9",
   "metadata": {
    "slideshow": {
     "slide_type": "slide"
    }
   },
   "source": [
    "## **4. Evaluate Your Model and Understand the Results**\n",
    "\n",
    "After training and validation, we now have the best model as determined by the validation dataset.  But now we need to evaluate the model on the test dataset to check whether the final model is robust and not over-fitting.  We'll use these predictions to generate a classification report."
   ]
  },
  {
   "cell_type": "code",
   "execution_count": 18,
   "id": "8ecec300",
   "metadata": {
    "slideshow": {
     "slide_type": "slide"
    }
   },
   "outputs": [],
   "source": [
    "net.load_state_dict(torch.load(os.path.join(root_dir, \"best_metric_model.pth\")))\n",
    "net.eval()\n",
    "y_true = list()\n",
    "y_pred = list()\n",
    "\n",
    "with torch.no_grad():\n",
    "    for test_data in test_loader:\n",
    "        test_images, test_labels = (\n",
    "            test_data[0].to(device),\n",
    "            test_data[1].to(device),\n",
    "        )\n",
    "        pred = net(test_images).argmax(dim=1)\n",
    "        \n",
    "        for i in range(len(pred)):\n",
    "            y_true.append(test_labels[i].item())\n",
    "            y_pred.append(pred[i].item())"
   ]
  },
  {
   "cell_type": "markdown",
   "id": "13f6d363",
   "metadata": {
    "slideshow": {
     "slide_type": "slide"
    }
   },
   "source": [
    "#### Some light analytics - classification report\n",
    "\n",
    "We'll utilize scikit-learn's classification report to get the precision, recall, and f1-score for each category."
   ]
  },
  {
   "cell_type": "code",
   "execution_count": 19,
   "id": "4f60255c",
   "metadata": {
    "slideshow": {
     "slide_type": "fragment"
    }
   },
   "outputs": [
    {
     "name": "stdout",
     "output_type": "stream",
     "text": [
      "              precision    recall  f1-score   support\n",
      "\n",
      "   AbdomenCT     0.9840    0.9820    0.9830      1000\n",
      "   BreastMRI     0.9933    0.9911    0.9922       895\n",
      "         CXR     0.9960    0.9910    0.9935      1000\n",
      "     ChestCT     0.9930    1.0000    0.9965      1000\n",
      "        Hand     0.9910    0.9860    0.9885      1000\n",
      "      HeadCT     0.9841    0.9910    0.9875      1000\n",
      "\n",
      "    accuracy                         0.9902      5895\n",
      "   macro avg     0.9902    0.9902    0.9902      5895\n",
      "weighted avg     0.9902    0.9902    0.9902      5895\n",
      "\n"
     ]
    }
   ],
   "source": [
    "from sklearn.metrics import classification_report\n",
    "print(classification_report(y_true, y_pred, target_names=class_names, digits=4))"
   ]
  },
  {
   "cell_type": "markdown",
   "id": "d11426cc",
   "metadata": {
    "slideshow": {
     "slide_type": "slide"
    }
   },
   "source": [
    "#### Some light analytics - confusion matrix\n",
    "\n",
    "Let's also create a confusion matrix to get a better understanding of the failure cases"
   ]
  },
  {
   "cell_type": "code",
   "execution_count": 20,
   "id": "1024bb27",
   "metadata": {
    "slideshow": {
     "slide_type": "fragment"
    }
   },
   "outputs": [
    {
     "data": {
      "image/png": "[encoded data removed]",
      "text/plain": [
       "<Figure size 480x480 with 2 Axes>"
      ]
     },
     "metadata": {},
     "output_type": "display_data"
    }
   ],
   "source": [
    "from sklearn.metrics import confusion_matrix\n",
    "\n",
    "cmat = confusion_matrix(y_true, y_pred)\n",
    "\n",
    "cax = plt.matshow(cmat, cmap=\"turbo\", interpolation=\"nearest\")\n",
    "plt.colorbar(cax)\n",
    "\n",
    "cax.axes.set_xticks(list(range(len(class_names))), class_names, rotation=270)\n",
    "cax.axes.set_yticks(list(range(len(class_names))), class_names)\n",
    "\n",
    "plt.show()"
   ]
  },
  {
   "cell_type": "markdown",
   "id": "8aab4c3e",
   "metadata": {
    "slideshow": {
     "slide_type": "slide"
    }
   },
   "source": [
    "## **Summary**\n",
    "\n",
    "In this notebook, we went through an end-to-end workflow to train the MedNIST dataset using a densenet121 network.  Along the way, you did the following:\n",
    "- Learned about the MedNIST Data and downloaded it\n",
    "- Visualized the data to understand the images\n",
    "- Setup the datasets for use in the model training\n",
    "- Defined our transforms, datasets, network, and optimizers\n",
    "- Trained a densenet model and saved the best model as determined by the validation accuracy\n",
    "- Plotted your training results\n",
    "- Evaluated your model against the test set\n",
    "- Ran your final predictions through a classification report to understand more about your final results\n",
    "- Created a new workflow using Ignite\n",
    "- Learn more about issues with determinism and how to look out for pitfalls"
   ]
  }
 ],
 "metadata": {
  "celltoolbar": "Slideshow",
  "kernelspec": {
   "display_name": "MONAI Fix",
   "language": "python",
   "name": "monai_fix"
  },
  "language_info": {
   "codemirror_mode": {
    "name": "ipython",
    "version": 3
   },
   "file_extension": ".py",
   "mimetype": "text/x-python",
   "name": "python",
   "nbconvert_exporter": "python",
   "pygments_lexer": "ipython3",
   "version": "3.9.15"
  }
 },
 "nbformat": 4,
 "nbformat_minor": 5
}
