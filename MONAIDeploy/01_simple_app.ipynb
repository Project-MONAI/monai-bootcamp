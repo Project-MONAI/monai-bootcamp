{
 "cells": [
  {
   "cell_type": "markdown",
   "metadata": {},
   "source": [
    "<img src=\"monai.png\" style=\"width: 700px;\"/>\n",
    "\n",
    "Welcome to the MONAI bootcamp! This tutorial introduces the basic concepts of the MONAI Deploy App SDK by showing how to develop a simple image processing application.\n",
    "\n",
    "### Using Google Colab\n",
    "\n",
    "This notebook has the pip command for installing MONAI and will be added to any subsequent notebook.\n",
    "\n",
    "**Required Packages for Colab Execution**\n",
    "\n",
    "Execute the following cell to install MONAI the first time a colab notebook is run:"
   ]
  },
  {
   "cell_type": "code",
   "execution_count": null,
   "metadata": {},
   "outputs": [],
   "source": [
    "!python -c \"import skimage\" || pip install -qU \"scikit-image\"\n",
    "!python -c \"import monai\" || pip install -qU \"monai[nibabel]\"\n",
    "!python -c \"import monai.deploy\" || pip install -qU \"monai-deploy-app-sdk\""
   ]
  },
  {
   "cell_type": "markdown",
   "metadata": {},
   "source": [
    "**Note:** If you're having issues with imports, try to \"Restart Kernel\" for Jupyter from the \"Kernel\" dropdown menu.\n",
    "\n",
    "**Enabling GPU Support**\n",
    "\n",
    "To use GPU resources through Colab, change the runtime to GPU:\n",
    "\n",
    "1. From the **\"Runtime\"** menu select **\"Change Runtime Type\"**\n",
    "2. Choose **\"GPU\"** from the drop-down menu\n",
    "3. Click **\"SAVE\"**\n",
    "\n",
    "This will reset the notebook and probably ask you if you are a robot (these instructions assume you are not). Running\n",
    "\n",
    "**!nvidia-smi**\n",
    "\n",
    "in a cell will verify this has worked and show you what kind of hardware you have access to.    "
   ]
  },
  {
   "cell_type": "code",
   "execution_count": null,
   "metadata": {},
   "outputs": [],
   "source": [
    "!nvidia-smi"
   ]
  },
  {
   "cell_type": "markdown",
   "metadata": {
    "pycharm": {},
    "tags": []
   },
   "source": [
    "# Creating a Simple Image Processing App with MONAI Deploy App SDK\n",
    "\n",
    "First, you will need to design the workflow of your application that defines Operators (tasks) and flows among them. Once the workflow is designed, you can use existing operators provided by MONAI Deploy or start implementing your customer operator classes. Next, you'll implement an Application class to construct a workflow graph with the operators.\n",
    "\n",
    "![MONAI Deploy App SDK Workflow](images/sdk_workflow.png)\n",
    "\n",
    "You can execute and debug your application locally in a Jupyter notebook or CLI.\n",
    "\n",
    "### Contents\n",
    "* [Setup](#setup)\n",
    "* [Creating Operator Class](#create_op)\n",
    "* [Creating Application Class](#create_app)\n",
    "* [Executing App Locally](#execute_app_local)\n",
    "* [Write Files to Disk](#write_files)\n",
    "* [Run App using CLI](#run_cli)\n",
    "* [Packing App as Docker Image](#package_app)\n",
    "* [Executing Packaged App Locally](#execute_docker)\n",
    "* [Conclusion](#conclusion)\n",
    "\n",
    "## Creating Operators and connecting them in the Application class\n",
    "\n",
    "We will implement an application that consists of three Operators:\n",
    "\n",
    "- **SobelOperator**: Apply a Sobel edge detector.\n",
    "    - **Input**: a file path ([`DataPath`](/modules/_autosummary/monai.deploy.core.domain.DataPath))\n",
    "    - **Output**: an image object in memory ([`Image`](/modules/_autosummary/monai.deploy.core.domain.Image))\n",
    "- **MedianOperator**: Apply a Median filter for noise reduction.\n",
    "    - **Input**: an image object in memory ([`Image`](/modules/_autosummary/monai.deploy.core.domain.Image))\n",
    "    - **Output**: an image object in memory ([`Image`](/modules/_autosummary/monai.deploy.core.domain.Image))\n",
    "- **GaussianOperator**: Apply a Gaussian filter for smoothening.\n",
    "    - **Input**: an image object in memory ([`Image`](/modules/_autosummary/monai.deploy.core.domain.Image))\n",
    "    - **Output**: a file path ([`DataPath`](/modules/_autosummary/monai.deploy.core.domain.DataPath))\n",
    "    \n",
    "The workflow of the application would look like this.\n",
    "\n",
    "![Application Workflow](images/app_workflow.png)"
   ]
  },
  {
   "cell_type": "markdown",
   "metadata": {
    "pycharm": {}
   },
   "source": [
    "<a id='setup'></a>\n",
    "## 0 Setup\n",
    "\n",
    "### 0.1 Setup environment\n",
    "\n",
    "We'll set up a variable to point to the 01_files folder, where we're storing data throughout this notebook."
   ]
  },
  {
   "cell_type": "code",
   "execution_count": null,
   "metadata": {
    "pycharm": {},
    "tags": []
   },
   "outputs": [],
   "source": [
    "NOTEBOOK_ROOT=\"data/01_files/\""
   ]
  },
  {
   "cell_type": "markdown",
   "metadata": {},
   "source": [
    "**Note:** If you're having issues with imports, try to \"Restart Kernel\" for Jupyter from the \"Kernel\" dropdown menu."
   ]
  },
  {
   "cell_type": "markdown",
   "metadata": {
    "tags": []
   },
   "source": [
    "#### Download Data required for all of the MONAI Deploy Notebooks\n",
    "We're going to download sample images and python files required for running the MONAI Deploy Jupyter Notebooks."
   ]
  },
  {
   "cell_type": "code",
   "execution_count": null,
   "metadata": {},
   "outputs": [],
   "source": [
    "!wget https://github.com/zephyrie/monai-bootcamp/releases/download/monai-deploy-data-v0.1/deploy_data.zip\n",
    "!unzip deploy_data.zip"
   ]
  },
  {
   "cell_type": "markdown",
   "metadata": {
    "pycharm": {}
   },
   "source": [
    "### 0.2 Download test input\n",
    "\n",
    "We will use a test input from the following.\n",
    "\n",
    "> Case courtesy of Dr Bruno Di Muzio, <a href=\"https://radiopaedia.org/?lang=us\">Radiopaedia.org</a>. From the case <a href=\"https://radiopaedia.org/cases/41113?lang=us\">rID: 41113</a>"
   ]
  },
  {
   "cell_type": "code",
   "execution_count": null,
   "metadata": {
    "pycharm": {}
   },
   "outputs": [],
   "source": [
    "from skimage import io\n",
    "# import wget\n",
    "\n",
    "test_input_path = NOTEBOOK_ROOT+\"input/normal-brain-mri-4.png\"\n",
    "# wget.download(\"https://user-images.githubusercontent.com/1928522/133383228-2357d62d-316c-46ad-af8a-359b56f25c87.png\", test_input_path)\n",
    "\n",
    "print(f\"Test input file path: {test_input_path}\")\n",
    "\n",
    "test_image = io.imread(test_input_path)\n",
    "io.imshow(test_image)"
   ]
  },
  {
   "cell_type": "markdown",
   "metadata": {
    "pycharm": {}
   },
   "source": [
    "### 0.3 Setup imports\n",
    "\n",
    "Let's import necessary classes/decorators to define Application and Operator."
   ]
  },
  {
   "cell_type": "code",
   "execution_count": null,
   "metadata": {
    "pycharm": {}
   },
   "outputs": [],
   "source": [
    "import monai.deploy.core as md  # 'md' stands for MONAI Deploy (or can use 'core' instead)\n",
    "from monai.deploy.core import (\n",
    "    Application,\n",
    "    DataPath,\n",
    "    ExecutionContext,\n",
    "    Image,\n",
    "    InputContext,\n",
    "    IOType,\n",
    "    Operator,\n",
    "    OutputContext,\n",
    ")"
   ]
  },
  {
   "cell_type": "markdown",
   "metadata": {
    "pycharm": {}
   },
   "source": [
    "<a id='create_op'></a>\n",
    "## 1. Creating Operator classes\n",
    "\n",
    "Each Operator class inherits [Operator](https://docs.monai.io/projects/monai-deploy-app-sdk/en/latest/modules/_autosummary/monai.deploy.core.Operator.html) class and input/output properties are specified by using [@input](https://docs.monai.io/projects/monai-deploy-app-sdk/en/latest/modules/_autosummary/monai.deploy.core.input.html)/[@output](https://docs.monai.io/projects/monai-deploy-app-sdk/en/latest/modules/_autosummary/monai.deploy.core.output.html) decorators.\n",
    "\n",
    "Note that the first operator(SobelOperator)'s input and the last operator(GaussianOperator)'s output are [DataPath](https://docs.monai.io/projects/monai-deploy-app-sdk/en/latest/modules/_autosummary/monai.deploy.core.domain.DataPath.html) type with [IOType.DISK](https://docs.monai.io/projects/monai-deploy-app-sdk/en/latest/modules/_autosummary/monai.deploy.core.IOType.html). Those paths are mapped into input and output paths given by the user during the execution.\n",
    "\n",
    "Business logic would be implemented in the <a href=\"https://docs.monai.io/projects/monai-deploy-app-sdk/en/latest/modules/_autosummary/monai.deploy.core.Operator.html#monai.deploy.core.Operator.compute\">compute()</a> method.\n",
    "\n",
    "### 1.1 SobelOperator\n",
    "\n",
    "SobelOperator is the first operator (A root operator in the workflow graph). <a href=\"https://docs.monai.io/projects/monai-deploy-app-sdk/en/latest/modules/_autosummary/monai.deploy.core.InputContext.html#monai.deploy.core.InputContext.get\">op_input.get(label)</a> (since only one input is defined in this operator, we don't need to specify an input label) would return an object of [DataPath](https://docs.monai.io/projects/monai-deploy-app-sdk/en/latest/modules/_autosummary/monai.deploy.core.domain.DataPath.html) and the input file/folder path would be available by accessing the `path` property (`op_input.get().path`).\n",
    "\n",
    "Once an image data (as a Numpy array) is loaded and processed, [Image](https://docs.monai.io/projects/monai-deploy-app-sdk/en/latest/modules/_autosummary/monai.deploy.core.domain.Image.html) object is created from the image data and set to the output (<a href=\"https://docs.monai.io/projects/monai-deploy-app-sdk/en/latest/modules/_autosummary/monai.deploy.core.OutputContext.html#monai.deploy.core.OutputContext.set\">op_output.set(value, label)</a>)."
   ]
  },
  {
   "cell_type": "code",
   "execution_count": null,
   "metadata": {
    "pycharm": {}
   },
   "outputs": [],
   "source": [
    "@md.input(\"image\", DataPath, IOType.DISK)\n",
    "@md.output(\"image\", Image, IOType.IN_MEMORY)\n",
    "# If `pip_packages` is specified, the definition will be aggregated with the package dependency list of other\n",
    "# operators and the application in packaging time.\n",
    "# @md.env(pip_packages=[\"scikit-image >= 0.17.2\"])\n",
    "class SobelOperator(Operator):\n",
    "    \"\"\"This Operator implements a Sobel edge detector.\n",
    "\n",
    "    It has a single input and single output.\n",
    "    \"\"\"\n",
    "\n",
    "    def compute(self, op_input: InputContext, op_output: OutputContext, context: ExecutionContext):\n",
    "        from skimage import filters, io\n",
    "\n",
    "        input_path = op_input.get().path\n",
    "        if input_path.is_dir():\n",
    "            input_path = next(input_path.glob(\"*.*\"))  # take the first file\n",
    "\n",
    "        data_in = io.imread(input_path)[:, :, :3]  # discard alpha channel if exists\n",
    "        data_out = filters.sobel(data_in)\n",
    "\n",
    "        op_output.set(Image(data_out))"
   ]
  },
  {
   "cell_type": "markdown",
   "metadata": {
    "pycharm": {}
   },
   "source": [
    "### 1.2 MedianOperator\n",
    "\n",
    "MedianOperator is a middle operator that accepts data from SobelOperator and passes the processed image data to GaussianOperator.\n",
    "\n",
    "Its input and output data types are [Image](https://docs.monai.io/projects/monai-deploy-app-sdk/en/latest/modules/_autosummary/monai.deploy.core.domain.Image.html) and the Numpy array data is available through `asnumpy()` method (`op_input.get().asnumpy()`).\n",
    "\n",
    "Again, once an image data (as a Numpy array) is loaded and processed, [Image](https://docs.monai.io/projects/monai-deploy-app-sdk/en/latest/modules/_autosummary/monai.deploy.core.domain.Image.html) object is created and set to the output (<a href=\"https://docs.monai.io/projects/monai-deploy-app-sdk/en/latest/modules/_autosummary/monai.deploy.core.OutputContext.html#monai.deploy.core.OutputContext.set\">op_output.set(value, label)</a>)."
   ]
  },
  {
   "cell_type": "code",
   "execution_count": null,
   "metadata": {
    "pycharm": {}
   },
   "outputs": [],
   "source": [
    "@md.input(\"image\", Image, IOType.IN_MEMORY)\n",
    "@md.output(\"image\", Image, IOType.IN_MEMORY)\n",
    "# If `pip_packages` is specified, the definition will be aggregated with the package dependency list of other\n",
    "# operators and the application in packaging time.\n",
    "# @md.env(pip_packages=[\"scikit-image >= 0.17.2\"])\n",
    "class MedianOperator(Operator):\n",
    "    \"\"\"This Operator implements a noise reduction.\n",
    "\n",
    "    The algorithm is based on the median operator.\n",
    "    It ingests a single input and provides a single output.\n",
    "    \"\"\"\n",
    "\n",
    "    def compute(self, op_input: InputContext, op_output: OutputContext, context: ExecutionContext):\n",
    "        from skimage.filters import median\n",
    "\n",
    "        data_in = op_input.get().asnumpy()\n",
    "        data_out = median(data_in)\n",
    "        op_output.set(Image(data_out))"
   ]
  },
  {
   "cell_type": "markdown",
   "metadata": {
    "pycharm": {}
   },
   "source": [
    "### 1.3 GaussianOperator\n",
    "\n",
    "GaussianOperator is the last operator (A leaf operator in the workflow graph) and the output path of this operator is mapped to the user-provided output folder so we cannot set a path to `op_output` variable (e.g., `op_output.set(Image(data_out))`).\n",
    "\n",
    "Instead, we can get the output path through `op_output.get().path` and save the processed image data into a file."
   ]
  },
  {
   "cell_type": "code",
   "execution_count": null,
   "metadata": {
    "pycharm": {}
   },
   "outputs": [],
   "source": [
    "@md.input(\"image\", Image, IOType.IN_MEMORY)\n",
    "@md.output(\"image\", DataPath, IOType.DISK)\n",
    "# If `pip_packages` is specified, the definition will be aggregated with the package dependency list of other\n",
    "# operators and the application in packaging time.\n",
    "# @md.env(pip_packages=[\"scikit-image >= 0.17.2\"])\n",
    "class GaussianOperator(Operator):\n",
    "    \"\"\"This Operator implements a smoothening based on Gaussian.\n",
    "\n",
    "    It ingests a single input and provides a single output.\n",
    "    \"\"\"\n",
    "\n",
    "    def compute(self, op_input: InputContext, op_output: OutputContext, context: ExecutionContext):\n",
    "        from skimage.filters import gaussian\n",
    "        from skimage.io import imsave\n",
    "\n",
    "        data_in = op_input.get().asnumpy()\n",
    "        data_out = gaussian(data_in, sigma=0.2)\n",
    "\n",
    "        output_folder = op_output.get().path\n",
    "        output_path = output_folder / \"final_output.png\"\n",
    "        imsave(output_path, data_out)"
   ]
  },
  {
   "cell_type": "markdown",
   "metadata": {
    "pycharm": {}
   },
   "source": [
    "<a id='create_app'></a>\n",
    "## 2. Creating Application class\n",
    "\n",
    "Our application class would look like below.\n",
    "\n",
    "It defines `App` class, inheriting [Application](https://docs.monai.io/projects/monai-deploy-app-sdk/en/latest/modules/_autosummary/monai.deploy.core.Application.html) class.\n",
    "\n",
    "The requirements (resource and package dependency) for the App can be specified by using [@resource](https://docs.monai.io/projects/monai-deploy-app-sdk/en/latest/modules/_autosummary/monai.deploy.core.resource.html) and [@env](https://docs.monai.io/projects/monai-deploy-app-sdk/en/latest/modules/_autosummary/monai.deploy.core.env.html) decorators.\n",
    "\n",
    "The @resource and @env decorators are also helpful from a Deployment IT / Infrastructure perspective in that they help with reproducibility and infrastructure requirements directly in the code."
   ]
  },
  {
   "cell_type": "code",
   "execution_count": null,
   "metadata": {
    "pycharm": {}
   },
   "outputs": [],
   "source": [
    "@md.resource(cpu=1)\n",
    "# pip_packages can be a string that is a path(str) to requirements.txt file or a list of packages.\n",
    "@md.env(pip_packages=[\"scikit-image >= 0.17.2\"])\n",
    "class App(Application):\n",
    "    \"\"\"This is a very basic application.\n",
    "\n",
    "    This showcases the MONAI Deploy application framework.\n",
    "    \"\"\"\n",
    "\n",
    "    # App's name. <class name>('App') if not specified.\n",
    "    name = \"simple_imaging_app\"\n",
    "    # App's description. <class docstring> if not specified.\n",
    "    description = \"This is a very simple application.\"\n",
    "    # App's version. <git version tag> or '0.0.0' if not specified.\n",
    "    version = \"0.1.0\"\n",
    "\n",
    "    def compose(self):\n",
    "        \"\"\"This application has three operators.\n",
    "\n",
    "        Each operator has a single input and a single output port.\n",
    "        Each operator performs some kind of image processing function.\n",
    "        \"\"\"\n",
    "        sobel_op = SobelOperator()\n",
    "        median_op = MedianOperator()\n",
    "        gaussian_op = GaussianOperator()\n",
    "\n",
    "        self.add_flow(sobel_op, median_op)\n",
    "        # self.add_flow(sobel_op, median_op, {\"image\": \"image\"})\n",
    "        # self.add_flow(sobel_op, median_op, {\"image\": {\"image\"}})\n",
    "\n",
    "        self.add_flow(median_op, gaussian_op)"
   ]
  },
  {
   "cell_type": "markdown",
   "metadata": {
    "pycharm": {}
   },
   "source": [
    "In `compose()` method, objects of `SobelOperator`, `MedianOperator`, and `GaussianOperator` classes are created\n",
    "and connected through <a href=\"https://docs.monai.io/projects/monai-deploy-app-sdk/en/latest/modules/_autosummary/monai.deploy.core.Application.html#monai.deploy.core.Application.add_flow\">self.add_flow()</a>.\n",
    "\n",
    "> add_flow(upstream_op, downstream_op, io_map=None)\n",
    "\n",
    "`io_map` is a dictionary of mapping from the source operator's label to the destination operator's label(s) and its type is `Dict[str, str|Set[str]]`. \n",
    "\n",
    "We can skip specifying `io_map` if both the number of `upstream_op`'s outputs and the number of `downstream_op`'s inputs are one so `self.add_flow(sobel_op, median_op)` is same with `self.add_flow(sobel_op, median_op, {\"image\": \"image\"})` or `self.add_flow(sobel_op, median_op, {\"image\": {\"image\"}})`.\n"
   ]
  },
  {
   "cell_type": "markdown",
   "metadata": {
    "pycharm": {}
   },
   "source": [
    "<a id='execute_app_local'></a>\n",
    "## 3. Executing app locally\n",
    "\n",
    "Once an Application class (App) is defined, you can instantiate the Application and execute with the Application.run() method.\n",
    "\n",
    "Utilizing Jupyter Notebooks with MONAI Deploy App SDK gives developers an easy way to get started building AI applications.  You have the full suite of Jupyter tools for debugging and fast iteration and then can quickly transition to creating a full-fledged AI Application docker container using the same tools."
   ]
  },
  {
   "cell_type": "code",
   "execution_count": null,
   "metadata": {
    "pycharm": {}
   },
   "outputs": [],
   "source": [
    "app = App()\n",
    "app.run(input=test_input_path, output=NOTEBOOK_ROOT+\"/output\")"
   ]
  },
  {
   "cell_type": "markdown",
   "metadata": {
    "pycharm": {}
   },
   "source": [
    "### 3.1 Show results \n",
    "\n",
    "We'll then use Matplotlib to show the output result."
   ]
  },
  {
   "cell_type": "code",
   "execution_count": null,
   "metadata": {
    "pycharm": {}
   },
   "outputs": [],
   "source": [
    "!ls -la $NOTEBOOK_ROOT/output\n",
    "output_image = io.imread(NOTEBOOK_ROOT+\"output/final_output.png\")\n",
    "# io.imshow(output_image)"
   ]
  },
  {
   "cell_type": "code",
   "execution_count": null,
   "metadata": {
    "pycharm": {}
   },
   "outputs": [],
   "source": [
    "import matplotlib.pyplot as plt\n",
    "from matplotlib import rcParams\n",
    "rcParams['figure.figsize'] = 15 ,15\n",
    "fig, ax = plt.subplots(1,2)\n",
    "\n",
    "ax[0].imshow(test_image);\n",
    "ax[1].imshow(output_image);"
   ]
  },
  {
   "cell_type": "markdown",
   "metadata": {
    "pycharm": {}
   },
   "source": [
    "<a id='write_file'></a>\n",
    "## 4. Write files to Disk"
   ]
  },
  {
   "cell_type": "markdown",
   "metadata": {
    "pycharm": {}
   },
   "source": [
    "Once the application is verified inside the Jupyter notebook, we can write the above Python code into Python files in an application folder.\n",
    "\n",
    "The application folder structure would look like below:\n",
    "\n",
    "```bash\n",
    "simple_imaging_app\n",
    "├── __main__.py\n",
    "├── app.py\n",
    "├── gaussian_operator.py\n",
    "├── median_operator.py\n",
    "└── sobel_operator.py\n",
    "```\n",
    "\n",
    "---\n",
    " > **Note**: We can create a single application Python file (such as `simple_imaging_app.py`) that includes the files' content instead of creating multiple files.\n",
    "You will see such example in <a href=\"https://docs.monai.io/projects/monai-deploy-app-sdk/en/latest/notebooks/tutorials/02_mednist_app.html#executing-app-locally\">MedNist Classifier Tutorial</a>.\n",
    "---"
   ]
  },
  {
   "cell_type": "markdown",
   "metadata": {
    "pycharm": {}
   },
   "source": [
    "Usually, you would have an IDE and directly edit files on disk. However, we have been editing code in the jupyter cells in this lab. We will now write code in the cells to files using the Jupyter magic command `%%writefile`. You will be directly editing Python code in the Jupyter editor in future labs.\n",
    "\n",
    "We'll start by creating an application folder called `simple_imaging_app` and then writing each operator, app and main Python files to that directory."
   ]
  },
  {
   "cell_type": "code",
   "execution_count": null,
   "metadata": {
    "pycharm": {}
   },
   "outputs": [],
   "source": [
    "# Create an application folder\n",
    "!mkdir -p {NOTEBOOK_ROOT}/simple_imaging_app"
   ]
  },
  {
   "cell_type": "markdown",
   "metadata": {
    "pycharm": {}
   },
   "source": [
    "### 4.1 Write sobel_operator.py to file "
   ]
  },
  {
   "cell_type": "code",
   "execution_count": null,
   "metadata": {
    "pycharm": {}
   },
   "outputs": [],
   "source": [
    "%%writefile {NOTEBOOK_ROOT}/simple_imaging_app/sobel_operator.py\n",
    "import monai.deploy.core as md\n",
    "from monai.deploy.core import (\n",
    "    DataPath,\n",
    "    ExecutionContext,\n",
    "    Image,\n",
    "    InputContext,\n",
    "    IOType,\n",
    "    Operator,\n",
    "    OutputContext,\n",
    ")\n",
    "\n",
    "\n",
    "@md.input(\"image\", DataPath, IOType.DISK)\n",
    "@md.output(\"image\", Image, IOType.IN_MEMORY)\n",
    "class SobelOperator(Operator):\n",
    "    def compute(self, op_input: InputContext, op_output: OutputContext, context: ExecutionContext):\n",
    "        from skimage import filters, io\n",
    "\n",
    "        input_path = op_input.get().path\n",
    "        if input_path.is_dir():\n",
    "            input_path = next(input_path.glob(\"*.*\"))  # take the first file\n",
    "\n",
    "        data_in = io.imread(input_path)[:, :, :3]  # discard alpha channel if exists\n",
    "        data_out = filters.sobel(data_in)\n",
    "\n",
    "        op_output.set(Image(data_out))"
   ]
  },
  {
   "cell_type": "markdown",
   "metadata": {
    "pycharm": {}
   },
   "source": [
    "### 4.2 Write median_operator.py to file "
   ]
  },
  {
   "cell_type": "code",
   "execution_count": null,
   "metadata": {
    "pycharm": {}
   },
   "outputs": [],
   "source": [
    "%%writefile {NOTEBOOK_ROOT}/simple_imaging_app/median_operator.py\n",
    "import monai.deploy.core as md\n",
    "from monai.deploy.core import ExecutionContext, Image, InputContext, IOType, Operator, OutputContext, output\n",
    "\n",
    "\n",
    "@md.input(\"image\", Image, IOType.IN_MEMORY)\n",
    "@md.output(\"image\", Image, IOType.IN_MEMORY)\n",
    "class MedianOperator(Operator):\n",
    "    def compute(self, op_input: InputContext, op_output: OutputContext, context: ExecutionContext):\n",
    "        from skimage.filters import median\n",
    "\n",
    "        data_in = op_input.get().asnumpy()\n",
    "        data_out = median(data_in)\n",
    "        op_output.set(Image(data_out))"
   ]
  },
  {
   "cell_type": "markdown",
   "metadata": {
    "pycharm": {}
   },
   "source": [
    "### 4.3 Write gaussian_operator.py to file "
   ]
  },
  {
   "cell_type": "code",
   "execution_count": null,
   "metadata": {
    "pycharm": {}
   },
   "outputs": [],
   "source": [
    "%%writefile {NOTEBOOK_ROOT}/simple_imaging_app/gaussian_operator.py\n",
    "import monai.deploy.core as md\n",
    "from monai.deploy.core import (\n",
    "    DataPath,\n",
    "    ExecutionContext,\n",
    "    Image,\n",
    "    InputContext,\n",
    "    IOType,\n",
    "    Operator,\n",
    "    OutputContext,\n",
    ")\n",
    "\n",
    "\n",
    "@md.input(\"image\", Image, IOType.IN_MEMORY)\n",
    "@md.output(\"image\", DataPath, IOType.DISK)\n",
    "class GaussianOperator(Operator):\n",
    "    def compute(self, op_input: InputContext, op_output: OutputContext, context: ExecutionContext):\n",
    "        from skimage.filters import gaussian\n",
    "        from skimage.io import imsave\n",
    "\n",
    "        data_in = op_input.get().asnumpy()\n",
    "        data_out = gaussian(data_in, sigma=0.2)\n",
    "\n",
    "        output_folder = op_output.get().path\n",
    "        output_path = output_folder / \"final_output.png\"\n",
    "        imsave(output_path, data_out)"
   ]
  },
  {
   "cell_type": "markdown",
   "metadata": {
    "pycharm": {}
   },
   "source": [
    "### 4.4 Write app.py to file "
   ]
  },
  {
   "cell_type": "code",
   "execution_count": null,
   "metadata": {
    "pycharm": {}
   },
   "outputs": [],
   "source": [
    "%%writefile {NOTEBOOK_ROOT}/simple_imaging_app/app.py\n",
    "import monai.deploy.core as md\n",
    "from gaussian_operator import GaussianOperator\n",
    "from median_operator import MedianOperator\n",
    "from sobel_operator import SobelOperator\n",
    "\n",
    "from monai.deploy.core import Application\n",
    "\n",
    "\n",
    "@md.resource(cpu=1)\n",
    "@md.env(pip_packages=[\"scikit-image >= 0.17.2\"])\n",
    "class App(Application):\n",
    "    def compose(self):\n",
    "        sobel_op = SobelOperator()\n",
    "        median_op = MedianOperator()\n",
    "        gaussian_op = GaussianOperator()\n",
    "\n",
    "        self.add_flow(sobel_op, median_op)\n",
    "        self.add_flow(median_op, gaussian_op)\n",
    "\n",
    "# Run the application when this file is executed.\n",
    "if __name__ == \"__main__\":\n",
    "    App(do_run=True)"
   ]
  },
  {
   "cell_type": "markdown",
   "metadata": {
    "pycharm": {}
   },
   "source": [
    "```python\n",
    "if __name__ == \"__main__\":\n",
    "    App(do_run=True)\n",
    "```\n",
    "\n",
    "The above lines are needed to execute the application code by using `python` interpreter.\n",
    "\n",
    "### 4.5 Write  \\_\\_main\\_\\_.py to file \n",
    "\n",
    "\\_\\_main\\_\\_.py is needed for <a href=\"https://docs.monai.io/projects/monai-deploy-app-sdk/en/latest/developing_with_sdk/packaging_app.html\">MONAI Application Packager</a> to detect the main application code (`app.py`) when the application is executed with the application folder path (e.g., `python simple_imaging_app`)."
   ]
  },
  {
   "cell_type": "code",
   "execution_count": null,
   "metadata": {
    "pycharm": {}
   },
   "outputs": [],
   "source": [
    "%%writefile {NOTEBOOK_ROOT}/simple_imaging_app/__main__.py\n",
    "from app import App\n",
    "\n",
    "if __name__ == \"__main__\":\n",
    "    App(do_run=True)"
   ]
  },
  {
   "cell_type": "code",
   "execution_count": null,
   "metadata": {
    "pycharm": {}
   },
   "outputs": [],
   "source": [
    "# check files exist\n",
    "!ls -la {NOTEBOOK_ROOT}simple_imaging_app"
   ]
  },
  {
   "cell_type": "markdown",
   "metadata": {
    "pycharm": {}
   },
   "source": [
    "<a id='run_cli'></a>\n",
    "## 5. Run App on CLI\n",
    "You can run the App in one of two ways:\n",
    "- Using the python command\n",
    "- Using the 'monai-deploy' command \n",
    "\n",
    "---\n",
    " > **Note**: We are executing python code which makes developing and debugging simple.\n",
    "---"
   ]
  },
  {
   "cell_type": "code",
   "execution_count": null,
   "metadata": {
    "pycharm": {}
   },
   "outputs": [],
   "source": [
    "!python {NOTEBOOK_ROOT}/simple_imaging_app -i {test_input_path} -o {NOTEBOOK_ROOT}\"/output\""
   ]
  },
  {
   "cell_type": "markdown",
   "metadata": {
    "pycharm": {}
   },
   "source": [
    "The above command and below command both run the application, but one uses python directly, and the other uses the provided MONAI Deploy CLI."
   ]
  },
  {
   "cell_type": "code",
   "execution_count": null,
   "metadata": {
    "pycharm": {}
   },
   "outputs": [],
   "source": [
    "!monai-deploy exec {NOTEBOOK_ROOT}/simple_imaging_app -i {test_input_path} -o {NOTEBOOK_ROOT}\"/output\""
   ]
  },
  {
   "cell_type": "markdown",
   "metadata": {},
   "source": [
    "We'll then use Matplotlib again to show the output result."
   ]
  },
  {
   "cell_type": "code",
   "execution_count": null,
   "metadata": {
    "pycharm": {}
   },
   "outputs": [],
   "source": [
    "output_image = io.imread(NOTEBOOK_ROOT+\"/output/final_output.png\")\n",
    "io.imshow(output_image)"
   ]
  },
  {
   "cell_type": "markdown",
   "metadata": {
    "pycharm": {}
   },
   "source": [
    "<a id='package_app'></a>\n",
    "## 6. Package app (creating MAP Docker image)"
   ]
  },
  {
   "cell_type": "markdown",
   "metadata": {
    "pycharm": {}
   },
   "source": [
    "### 6.1 Docker intro \n",
    "\n",
    "Why [Docker](https://docs.docker.com/get-started/overview/)? It's lightweight and reproducible. While VMs encapsulate the entire OS and any applications, containers encapsulate individual applications and their dependencies for portable deployment, but share the same host OS between containers.\n",
    "\n",
    "![Docker versus VM](images/docker.png)\n",
    "\n",
    "Examples:\n",
    "- This DLI is using docker\n",
    "- NVIDIA releases docker for each framework every month"
   ]
  },
  {
   "cell_type": "markdown",
   "metadata": {
    "pycharm": {
     "metadata": false
    },
    "tags": []
   },
   "source": [
    "Let's package the app with <a href=\"https://docs.monai.io/projects/monai-deploy-app-sdk/en/latest/developing_with_sdk/packaging_app.html\">MONAI Application Packager</a>.\n",
    "\n",
    "The MONAI Application Packager (Packager) is a utility for building an application developed with the MONAI Deploy App SDK into a structured MONAI Application Package (MAP).\n",
    "\n",
    "The MAP produced by the Packager is a deployable and reusable docker image that can be launched locally or remotely.\n",
    "\n",
    "### 6.2 Basic Usage of MONAI Application Packager\n",
    "\n",
    "Below we'll use the monai-deploy CLI to package the application by using the package command.  We'll pass the `simple_imaging_app` folder path and use the `simple_app` tag."
   ]
  },
  {
   "cell_type": "code",
   "execution_count": null,
   "metadata": {},
   "outputs": [],
   "source": [
    "#!monai-deploy package {NOTEBOOK_ROOT}/simple_imaging_app --tag simple_app:latest -l DEBUG"
   ]
  },
  {
   "cell_type": "markdown",
   "metadata": {
    "pycharm": {},
    "tags": []
   },
   "source": [
    "---\n",
    " > **Note**: Building a MONAI Application Package (Docker image) can take time. Use `-l DEBUG` option if you want to see the progress.\n",
    "---\n",
    "\n",
    "After creating the docker image, we can verify it by using the `docker image ls` command and grepping for `simple_app`."
   ]
  },
  {
   "cell_type": "code",
   "execution_count": null,
   "metadata": {
    "pycharm": {}
   },
   "outputs": [],
   "source": [
    "#!docker image ls | grep simple_app"
   ]
  },
  {
   "cell_type": "markdown",
   "metadata": {
    "pycharm": {},
    "tags": []
   },
   "source": [
    "<a id='execute_docker'></a>\n",
    "## 7. Executing packaged app locally\n",
    "\n",
    "The packaged app can be run locally using the [MONAI Application Runner](https://docs.monai.io/projects/monai-deploy-app-sdk/en/latest/developing_with_sdk/executing_packaged_app_locally.html).\n",
    "\n",
    "---\n",
    " > **Note**: Following command will run on the host machine using docker. \n",
    "Therefore: \n",
    "> - any variables defined in the notebook as `NOTEBOOK_ROOT` won't resolve\n",
    "> - mapping volumes should be the real host path, that is why we use the docker variable LAB_PATH\n",
    "---\n"
   ]
  },
  {
   "cell_type": "code",
   "execution_count": null,
   "metadata": {
    "pycharm": {}
   },
   "outputs": [],
   "source": [
    "# Launch the app\n",
    "#!monai-deploy run simple_app:latest \"${NOTEBOOK_ROOT}/input\" \"${NOTEBOOK_ROOT}/dockerOutput\""
   ]
  },
  {
   "cell_type": "markdown",
   "metadata": {
    "pycharm": {}
   },
   "source": [
    "#### 7.1 Show Results from docker package\n",
    "\n",
    "We'll then use Matplotlib again to show the output result."
   ]
  },
  {
   "cell_type": "code",
   "execution_count": null,
   "metadata": {
    "pycharm": {}
   },
   "outputs": [],
   "source": [
    "#output_image = io.imread(NOTEBOOK_ROOT+\"/dockerOutput/final_output.png\")\n",
    "#io.imshow(output_image)"
   ]
  },
  {
   "cell_type": "markdown",
   "metadata": {},
   "source": [
    "<a id='conclusion'></a>\n",
    "## Conclusion\n",
    "\n",
    "In this notebook, we have walked through the process to create a simple application using MONAI Deploy App SDK.  You've run the application in Jupyter, locally using Python and the MONAI Deploy CLI, and finally you packaged the application using docker and executed the newly created container image.\n",
    "\n",
    "### What's Next\n",
    "The following notebook we'll walk through a more realistic classification task using the MedNIST dataset."
   ]
  }
 ],
 "metadata": {
  "kernelspec": {
   "display_name": "Python 3",
   "language": "python",
   "name": "python3"
  },
  "language_info": {
   "codemirror_mode": {
    "name": "ipython",
    "version": 3
   },
   "file_extension": ".py",
   "mimetype": "text/x-python",
   "name": "python",
   "nbconvert_exporter": "python",
   "pygments_lexer": "ipython3",
   "version": "3.8.12"
  }
 },
 "nbformat": 4,
 "nbformat_minor": 4
}
