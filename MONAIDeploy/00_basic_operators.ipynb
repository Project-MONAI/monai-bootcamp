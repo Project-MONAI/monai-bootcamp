{
 "cells": [
  {
   "cell_type": "markdown",
   "id": "1972af8a-0243-43ef-8894-766117edffbb",
   "metadata": {
    "tags": []
   },
   "source": [
    "![MONAI Logo](monai.png)\n",
    "\n",
    "# Creating a Simple Image Processing App with MONAI Deploy App SDK\n",
    "\n",
    "This tutorial introduces the basic concepts of the MONAI Deploy App SDK by showing how to develop a simple image processing application.\n",
    "\n",
    "First, you will need to design the workflow of your application that defines Operators (tasks) and flows among them. Once the workflow is designed, you can use existing operators provided by MONAI Deploy or start implementing your customer operator classes. Next, you'll implement an Application class to construct a workflow graph with the operators.\n",
    "\n",
    "![MONAI Deploy App SDK Workflow](images/sdk_workflow.png)\n",
    "\n",
    "You can execute and debug your application locally in a Jupyter notebook or CLI.\n",
    "\n",
    "### Contents\n",
    "* [Setup](#setup)\n",
    "* [Creating Operator Class](#create_op)\n",
    "* [Creating Application Class](#create_app)\n",
    "* [Executing App Locally](#execute_app_local)\n",
    "* [Conclusion](#conclusion)\n",
    "\n",
    "## Creating Operators and connecting them in the Application class\n",
    "\n",
    "We will implement an application that consists of three Operators:\n",
    "\n",
    "- **SobelOperator**: Apply a Sobel edge detector.\n",
    "    - **Input**: a file path ([`DataPath`](/modules/_autosummary/monai.deploy.core.domain.DataPath))\n",
    "    - **Output**: an image object in memory ([`Image`](/modules/_autosummary/monai.deploy.core.domain.Image))\n",
    "- **MedianOperator**: Apply a Median filter for noise reduction.\n",
    "    - **Input**: an image object in memory ([`Image`](/modules/_autosummary/monai.deploy.core.domain.Image))\n",
    "    - **Output**: an image object in memory ([`Image`](/modules/_autosummary/monai.deploy.core.domain.Image))\n",
    "- **GaussianOperator**: Apply a Gaussian filter for smoothening.\n",
    "    - **Input**: an image object in memory ([`Image`](/modules/_autosummary/monai.deploy.core.domain.Image))\n",
    "    - **Output**: a file path ([`DataPath`](/modules/_autosummary/monai.deploy.core.domain.DataPath))\n",
    "    \n",
    "The workflow of the application would look like this.\n",
    "\n",
    "![Application Workflow](images/app_workflow.png)"
   ]
  },
  {
   "cell_type": "markdown",
   "id": "507f5ec8-c207-4c4c-a65a-fcf480dab118",
   "metadata": {},
   "source": [
    "### Using Google Colab\n",
    "\n",
    "This notebook has the pip command for installing MONAI and will be added to any subsequent notebook.\n",
    "\n",
    "**Enabling GPU Support**\n",
    "\n",
    "To use GPU resources through Colab, change the runtime to GPU:\n",
    "\n",
    "1. From the **\"Runtime\"** menu select **\"Change Runtime Type\"**\n",
    "2. Choose **\"GPU\"** from the drop-down menu\n",
    "3. Click **\"SAVE\"**\n",
    "\n",
    "This will reset the notebook and probably ask you if you are a robot (these instructions assume you are not)\n",
    "\n",
    "### Verify GPU Access\n",
    "\n",
    "Running **!nvidia-smi** in a cell will verify this has worked and show you what kind of hardware you have access to.    "
   ]
  },
  {
   "cell_type": "code",
   "execution_count": null,
   "id": "49164b49-dc4e-46e9-89a6-4d2fcf7761af",
   "metadata": {},
   "outputs": [],
   "source": [
    "# Install necessary image loading/processing packages for the application\n",
    "!pip install -q \"Pillow\"\n",
    "!pip install -q \"scikit-image\"\n",
    "!pip install -q \"wget\"\n",
    "!pip install -q \"pydicom\"\n",
    "!pip install -q \"highdicom\"\n",
    "!pip install -q \"matplotlib\"\n",
    "!pip install -q \"typeguard==2.12.1\"\n",
    "%matplotlib inline\n",
    "\n",
    "# Install MONAI Deploy App SDK package\n",
    "!pip install -qU \"monai-deploy-app-sdk\"\n",
    "!pip install -qU \"monai[ignite, nibabel, torchvision, tqdm]==1.1.0\""
   ]
  },
  {
   "cell_type": "markdown",
   "id": "f50b4ffc-759d-4070-93ff-3c3a53255d2c",
   "metadata": {},
   "source": [
    "### 1. Setup\n",
    "\n",
    "To begin, check that the NVIDIA driver has been installed correctly. The `nvidia-smi` command should run and output information about the GPUs on your system:"
   ]
  },
  {
   "cell_type": "code",
   "execution_count": null,
   "id": "94fecd70-9502-4749-b326-7402524c2850",
   "metadata": {},
   "outputs": [],
   "source": [
    "!nvidia-smi"
   ]
  },
  {
   "cell_type": "markdown",
   "id": "805bf88c-c5b3-48bc-aa6e-93bc5128ce25",
   "metadata": {},
   "source": [
    "### 1.1 Setup environment\n",
    "\n",
    "We'll set up folder called notebook_0 where we'll extract our data, models, and write out output."
   ]
  },
  {
   "cell_type": "code",
   "execution_count": null,
   "id": "d8e0187d-a487-429b-924f-c6c60fcf3bf9",
   "metadata": {},
   "outputs": [],
   "source": [
    "NOTEBOOK_ROOT=\"notebook_0/\"\n",
    "!mkdir -p notebook_0"
   ]
  },
  {
   "cell_type": "markdown",
   "id": "6663bdc4-f02a-448e-a835-b418104339fe",
   "metadata": {},
   "source": [
    "### 1.2 Download test input\n",
    "\n",
    "We will use a test input from the following.\n",
    "\n",
    "> Case courtesy of Dr Bruno Di Muzio, <a href=\"https://radiopaedia.org/?lang=us\">Radiopaedia.org</a>. From the case <a href=\"https://radiopaedia.org/cases/41113?lang=us\">rID: 41113</a>"
   ]
  },
  {
   "cell_type": "code",
   "execution_count": null,
   "id": "cf5d583a-daae-4778-8e2f-f0fa92e6f9ab",
   "metadata": {},
   "outputs": [],
   "source": [
    "from skimage import io\n",
    "import wget\n",
    "\n",
    "test_input_path = NOTEBOOK_ROOT+\"normal-brain-mri-4.png\"\n",
    "wget.download(\"https://user-images.githubusercontent.com/1928522/133383228-2357d62d-316c-46ad-af8a-359b56f25c87.png\", out=test_input_path)\n",
    "\n",
    "print(f\"Test input file path: {test_input_path}\")\n",
    "\n",
    "test_image = io.imread(test_input_path)\n",
    "io.imshow(test_image)"
   ]
  },
  {
   "cell_type": "markdown",
   "id": "ac717465-60d7-4f12-8f5d-4b6bd5a20f65",
   "metadata": {},
   "source": [
    "### 1.3 Setup imports\n",
    "\n",
    "Let's import necessary classes/decorators to define Application and Operator."
   ]
  },
  {
   "cell_type": "code",
   "execution_count": null,
   "id": "a51910d2-56b5-4a6a-9d1a-e54927ef4246",
   "metadata": {},
   "outputs": [],
   "source": [
    "import monai.deploy.core as md  # 'md' stands for MONAI Deploy (or can use 'core' instead)\n",
    "from monai.deploy.core import (\n",
    "    Application,\n",
    "    DataPath,\n",
    "    ExecutionContext,\n",
    "    Image,\n",
    "    InputContext,\n",
    "    IOType,\n",
    "    Operator,\n",
    "    OutputContext,\n",
    ")"
   ]
  },
  {
   "cell_type": "markdown",
   "id": "759ac50c-fd03-44d6-adcb-1d94ef93cd0d",
   "metadata": {},
   "source": [
    "<a id='create_op'></a>\n",
    "## 2. Creating Operator classes\n",
    "\n",
    "Each Operator class inherits [Operator](https://docs.monai.io/projects/monai-deploy-app-sdk/en/latest/modules/_autosummary/monai.deploy.core.Operator.html) class and input/output properties are specified by using [@input](https://docs.monai.io/projects/monai-deploy-app-sdk/en/latest/modules/_autosummary/monai.deploy.core.input.html)/[@output](https://docs.monai.io/projects/monai-deploy-app-sdk/en/latest/modules/_autosummary/monai.deploy.core.output.html) decorators.\n",
    "\n",
    "Note that the first operator(SobelOperator)'s input and the last operator(GaussianOperator)'s output are [DataPath](https://docs.monai.io/projects/monai-deploy-app-sdk/en/latest/modules/_autosummary/monai.deploy.core.domain.DataPath.html) type with [IOType.DISK](https://docs.monai.io/projects/monai-deploy-app-sdk/en/latest/modules/_autosummary/monai.deploy.core.IOType.html). Those paths are mapped into input and output paths given by the user during the execution.\n",
    "\n",
    "Business logic would be implemented in the <a href=\"https://docs.monai.io/projects/monai-deploy-app-sdk/en/latest/modules/_autosummary/monai.deploy.core.Operator.html#monai.deploy.core.Operator.compute\">compute()</a> method.\n",
    "\n",
    "### 2.1 SobelOperator\n",
    "\n",
    "SobelOperator is the first operator (A root operator in the workflow graph). <a href=\"https://docs.monai.io/projects/monai-deploy-app-sdk/en/latest/modules/_autosummary/monai.deploy.core.InputContext.html#monai.deploy.core.InputContext.get\">op_input.get(label)</a> (since only one input is defined in this operator, we don't need to specify an input label) would return an object of [DataPath](https://docs.monai.io/projects/monai-deploy-app-sdk/en/latest/modules/_autosummary/monai.deploy.core.domain.DataPath.html) and the input file/folder path would be available by accessing the `path` property (`op_input.get().path`).\n",
    "\n",
    "Once an image data (as a Numpy array) is loaded and processed, [Image](https://docs.monai.io/projects/monai-deploy-app-sdk/en/latest/modules/_autosummary/monai.deploy.core.domain.Image.html) object is created from the image data and set to the output (<a href=\"https://docs.monai.io/projects/monai-deploy-app-sdk/en/latest/modules/_autosummary/monai.deploy.core.OutputContext.html#monai.deploy.core.OutputContext.set\">op_output.set(value, label)</a>)."
   ]
  },
  {
   "cell_type": "code",
   "execution_count": null,
   "id": "eb96c324-c703-4e81-b476-9d6581dfa89f",
   "metadata": {},
   "outputs": [],
   "source": [
    "@md.input(\"image\", DataPath, IOType.DISK)\n",
    "@md.output(\"image\", Image, IOType.IN_MEMORY)\n",
    "# If `pip_packages` is specified, the definition will be aggregated with the package dependency list of other\n",
    "# operators and the application in packaging time.\n",
    "# @md.env(pip_packages=[\"scikit-image >= 0.17.2\"])\n",
    "class SobelOperator(Operator):\n",
    "    \"\"\"This Operator implements a Sobel edge detector.\n",
    "\n",
    "    It has a single input and single output.\n",
    "    \"\"\"\n",
    "\n",
    "    def compute(self, op_input: InputContext, op_output: OutputContext, context: ExecutionContext):\n",
    "        from skimage import filters, io\n",
    "\n",
    "        input_path = op_input.get().path\n",
    "        if input_path.is_dir():\n",
    "            input_path = next(input_path.glob(\"*.*\"))  # take the first file\n",
    "\n",
    "        data_in = io.imread(input_path)[:, :, :3]  # discard alpha channel if exists\n",
    "        data_out = filters.sobel(data_in)\n",
    "\n",
    "        op_output.set(Image(data_out))"
   ]
  },
  {
   "cell_type": "markdown",
   "id": "50009f09-a8cb-419a-8432-ece6d2cdb6d7",
   "metadata": {},
   "source": [
    "### 2.2 MedianOperator\n",
    "\n",
    "MedianOperator is a middle operator that accepts data from SobelOperator and passes the processed image data to GaussianOperator.\n",
    "\n",
    "Its input and output data types are [Image](https://docs.monai.io/projects/monai-deploy-app-sdk/en/latest/modules/_autosummary/monai.deploy.core.domain.Image.html) and the Numpy array data is available through `asnumpy()` method (`op_input.get().asnumpy()`).\n",
    "\n",
    "Again, once an image data (as a Numpy array) is loaded and processed, [Image](https://docs.monai.io/projects/monai-deploy-app-sdk/en/latest/modules/_autosummary/monai.deploy.core.domain.Image.html) object is created and set to the output (<a href=\"https://docs.monai.io/projects/monai-deploy-app-sdk/en/latest/modules/_autosummary/monai.deploy.core.OutputContext.html#monai.deploy.core.OutputContext.set\">op_output.set(value, label)</a>)."
   ]
  },
  {
   "cell_type": "code",
   "execution_count": null,
   "id": "de67c30e-2422-487f-bb7b-57d4d3629c71",
   "metadata": {},
   "outputs": [],
   "source": [
    "@md.input(\"image\", Image, IOType.IN_MEMORY)\n",
    "@md.output(\"image\", Image, IOType.IN_MEMORY)\n",
    "# If `pip_packages` is specified, the definition will be aggregated with the package dependency list of other\n",
    "# operators and the application in packaging time.\n",
    "# @md.env(pip_packages=[\"scikit-image >= 0.17.2\"])\n",
    "class MedianOperator(Operator):\n",
    "    \"\"\"This Operator implements a noise reduction.\n",
    "\n",
    "    The algorithm is based on the median operator.\n",
    "    It ingests a single input and provides a single output.\n",
    "    \"\"\"\n",
    "\n",
    "    def compute(self, op_input: InputContext, op_output: OutputContext, context: ExecutionContext):\n",
    "        from skimage.filters import median\n",
    "\n",
    "        data_in = op_input.get().asnumpy()\n",
    "        data_out = median(data_in)\n",
    "        op_output.set(Image(data_out))"
   ]
  },
  {
   "cell_type": "markdown",
   "id": "69554073-63ec-4f02-8554-41791705d780",
   "metadata": {},
   "source": [
    "### 2.3 GaussianOperator\n",
    "\n",
    "GaussianOperator is the last operator (A leaf operator in the workflow graph) and the output path of this operator is mapped to the user-provided output folder so we cannot set a path to `op_output` variable (e.g., `op_output.set(Image(data_out))`).\n",
    "\n",
    "Instead, we can get the output path through `op_output.get().path` and save the processed image data into a file."
   ]
  },
  {
   "cell_type": "code",
   "execution_count": null,
   "id": "a1e34251-cffe-4e3b-ae22-3a4b489d8b5c",
   "metadata": {},
   "outputs": [],
   "source": [
    "@md.input(\"image\", Image, IOType.IN_MEMORY)\n",
    "@md.output(\"image\", DataPath, IOType.DISK)\n",
    "# If `pip_packages` is specified, the definition will be aggregated with the package dependency list of other\n",
    "# operators and the application in packaging time.\n",
    "# @md.env(pip_packages=[\"scikit-image >= 0.17.2\"])\n",
    "class GaussianOperator(Operator):\n",
    "    \"\"\"This Operator implements a smoothening based on Gaussian.\n",
    "\n",
    "    It ingests a single input and provides a single output.\n",
    "    \"\"\"\n",
    "\n",
    "    def compute(self, op_input: InputContext, op_output: OutputContext, context: ExecutionContext):\n",
    "        from skimage.filters import gaussian\n",
    "        from skimage.io import imsave\n",
    "\n",
    "        data_in = op_input.get().asnumpy()\n",
    "        data_out = gaussian(data_in, sigma=0.2)\n",
    "\n",
    "        output_folder = op_output.get().path\n",
    "        output_path = output_folder / \"final_output.png\"\n",
    "        imsave(output_path, data_out)"
   ]
  },
  {
   "cell_type": "markdown",
   "id": "19439ab2-dc25-4355-9667-fe99d800975f",
   "metadata": {},
   "source": [
    "<a id='create_app'></a>\n",
    "## 3. Creating Application class\n",
    "\n",
    "Our application class would look like below.\n",
    "\n",
    "It defines `App` class, inheriting [Application](https://docs.monai.io/projects/monai-deploy-app-sdk/en/latest/modules/_autosummary/monai.deploy.core.Application.html) class.\n",
    "\n",
    "The requirements (resource and package dependency) for the App can be specified by using [@resource](https://docs.monai.io/projects/monai-deploy-app-sdk/en/latest/modules/_autosummary/monai.deploy.core.resource.html) and [@env](https://docs.monai.io/projects/monai-deploy-app-sdk/en/latest/modules/_autosummary/monai.deploy.core.env.html) decorators.\n",
    "\n",
    "The @resource and @env decorators are also helpful from a Deployment IT / Infrastructure perspective in that they help with reproducibility and infrastructure requirements directly in the code."
   ]
  },
  {
   "cell_type": "code",
   "execution_count": null,
   "id": "e5f1ed4a-2bab-42b1-bc87-7f106e4b5bf1",
   "metadata": {},
   "outputs": [],
   "source": [
    "@md.resource(cpu=1)\n",
    "# pip_packages can be a string that is a path(str) to requirements.txt file or a list of packages.\n",
    "@md.env(pip_packages=[\"scikit-image >= 0.17.2\"])\n",
    "class App(Application):\n",
    "    \"\"\"This is a very basic application.\n",
    "\n",
    "    This showcases the MONAI Deploy application framework.\n",
    "    \"\"\"\n",
    "\n",
    "    # App's name. <class name>('App') if not specified.\n",
    "    name = \"simple_imaging_app\"\n",
    "    # App's description. <class docstring> if not specified.\n",
    "    description = \"This is a very simple application.\"\n",
    "    # App's version. <git version tag> or '0.0.0' if not specified.\n",
    "    version = \"0.1.0\"\n",
    "\n",
    "    def compose(self):\n",
    "        \"\"\"This application has three operators.\n",
    "\n",
    "        Each operator has a single input and a single output port.\n",
    "        Each operator performs some kind of image processing function.\n",
    "        \"\"\"\n",
    "        sobel_op = SobelOperator()\n",
    "        median_op = MedianOperator()\n",
    "        gaussian_op = GaussianOperator()\n",
    "\n",
    "        self.add_flow(sobel_op, median_op)\n",
    "        # self.add_flow(sobel_op, median_op, {\"image\": \"image\"})\n",
    "        # self.add_flow(sobel_op, median_op, {\"image\": {\"image\"}})\n",
    "\n",
    "        self.add_flow(median_op, gaussian_op)"
   ]
  },
  {
   "cell_type": "markdown",
   "id": "e78076cd-5539-4cff-aa6d-6401aacf0dd3",
   "metadata": {},
   "source": [
    "In `compose()` method, objects of `SobelOperator`, `MedianOperator`, and `GaussianOperator` classes are created\n",
    "and connected through <a href=\"https://docs.monai.io/projects/monai-deploy-app-sdk/en/latest/modules/_autosummary/monai.deploy.core.Application.html#monai.deploy.core.Application.add_flow\">self.add_flow()</a>.\n",
    "\n",
    "> add_flow(upstream_op, downstream_op, io_map=None)\n",
    "\n",
    "`io_map` is a dictionary of mapping from the source operator's label to the destination operator's label(s) and its type is `Dict[str, str|Set[str]]`. \n",
    "\n",
    "We can skip specifying `io_map` if both the number of `upstream_op`'s outputs and the number of `downstream_op`'s inputs are one so `self.add_flow(sobel_op, median_op)` is same with `self.add_flow(sobel_op, median_op, {\"image\": \"image\"})` or `self.add_flow(sobel_op, median_op, {\"image\": {\"image\"}})`.\n"
   ]
  },
  {
   "cell_type": "markdown",
   "id": "ee894735-b4ef-4092-a5b8-ba31ca33686d",
   "metadata": {},
   "source": [
    "<a id='execute_app_local'></a>\n",
    "## 4. Executing app locally\n",
    "\n",
    "Once an Application class (App) is defined, you can instantiate the Application and execute with the Application.run() method.\n",
    "\n",
    "Utilizing Jupyter Notebooks with MONAI Deploy App SDK gives developers an easy way to get started building AI applications.  You have the full suite of Jupyter tools for debugging and fast iteration and then can quickly transition to creating a full-fledged AI Application docker container using the same tools."
   ]
  },
  {
   "cell_type": "code",
   "execution_count": null,
   "id": "688da92c-724b-4f76-9b04-4689dd42ded7",
   "metadata": {},
   "outputs": [],
   "source": [
    "app = App()\n",
    "app.run(input=test_input_path, output=NOTEBOOK_ROOT)"
   ]
  },
  {
   "cell_type": "markdown",
   "id": "4309eb50-feec-4454-a44c-bcd2b1dc47b8",
   "metadata": {},
   "source": [
    "### 4.1 Show results \n",
    "\n",
    "We'll then use Matplotlib to show the output result."
   ]
  },
  {
   "cell_type": "code",
   "execution_count": null,
   "id": "0d91ae1c-6fb1-4c82-82cd-77537fa70bfc",
   "metadata": {},
   "outputs": [],
   "source": [
    "output_image = io.imread(NOTEBOOK_ROOT+\"final_output.png\")\n",
    "\n",
    "import matplotlib.pyplot as plt\n",
    "from matplotlib import rcParams\n",
    "rcParams['figure.figsize'] = 15 ,15\n",
    "fig, ax = plt.subplots(1,2)\n",
    "\n",
    "ax[0].imshow(test_image);\n",
    "ax[1].imshow(output_image);"
   ]
  },
  {
   "cell_type": "markdown",
   "id": "8785cd52-5f1e-4c64-87e6-88191b50b286",
   "metadata": {},
   "source": [
    "<a id='conclusion'></a>\n",
    "## Conclusion\n",
    "\n",
    "In this notebook, we have walked through the process to create a simple application using MONAI Deploy App SDK and running the application in Jupyter.\n",
    "\n",
    "### What's Next\n",
    "The following notebook we'll walk through a more realistic classification task using the MedNIST dataset."
   ]
  }
 ],
 "metadata": {
  "kernelspec": {
   "display_name": "Python 3",
   "language": "python",
   "name": "python3"
  },
  "language_info": {
   "codemirror_mode": {
    "name": "ipython",
    "version": 3
   },
   "file_extension": ".py",
   "mimetype": "text/x-python",
   "name": "python",
   "nbconvert_exporter": "python",
   "pygments_lexer": "ipython3",
   "version": "3.9.15"
  }
 },
 "nbformat": 4,
 "nbformat_minor": 5
}
