{
 "cells": [
  {
   "cell_type": "markdown",
   "metadata": {},
   "source": [
    "<img src=\"monai.png\" style=\"width: 700px;\"/>\n",
    "\n",
    "Welcome to the MONAI bootcamp! This tutorial demos the process of packaging a trained model using MONAI Deploy App SDK into an artifact that can be run as a local application that performs inference, a workflow job doing the same, and a Docker containerized workflow execution.\n",
    "\n",
    "### Using Google Colab\n",
    "\n",
    "This notebook has the pip command for installing MONAI and will be added to any subsequent notebook.\n",
    "\n",
    "**Required Packages for Colab Execution**\n",
    "\n",
    "Execute the following cell to install MONAI the first time a colab notebook is run:"
   ]
  },
  {
   "cell_type": "code",
   "execution_count": null,
   "metadata": {},
   "outputs": [],
   "source": [
    "!python -c \"import pydicom\" || pip install -qU \"pydicom\"\n",
    "!python -c \"import monai\" || pip install -qU \"monai[nibabel]\"\n",
    "!python -c \"import monai.deploy\" || pip install -qU \"monai-deploy-app-sdk\""
   ]
  },
  {
   "cell_type": "markdown",
   "metadata": {},
   "source": [
    "**Note:** If you're having issues with imports, try to \"Restart Kernel\" for Jupyter from the \"Kernel\" dropdown menu.\n",
    "\n",
    "**Enabling GPU Support**\n",
    "\n",
    "To use GPU resources through Colab, change the runtime to GPU:\n",
    "\n",
    "1. From the **\"Runtime\"** menu select **\"Change Runtime Type\"**\n",
    "2. Choose **\"GPU\"** from the drop-down menu\n",
    "3. Click **\"SAVE\"**\n",
    "\n",
    "This will reset the notebook and probably ask you if you are a robot (these instructions assume you are not). Running\n",
    "\n",
    "**!nvidia-smi**\n",
    "\n",
    "in a cell will verify this has worked and show you what kind of hardware you have access to.    "
   ]
  },
  {
   "cell_type": "code",
   "execution_count": null,
   "metadata": {},
   "outputs": [],
   "source": [
    "!nvidia-smi"
   ]
  },
  {
   "cell_type": "markdown",
   "metadata": {
    "pycharm": {}
   },
   "source": [
    "# Deploying a MedNIST Classifier App with MONAI Deploy App SDK (Prebuilt Model)\n",
    "\n",
    "This tutorial demos the process of packaging a trained model using MONAI Deploy App SDK into an artifact that can be run as a local application that performs inference, a workflow job doing the same, and a Docker containerized workflow execution.\n",
    "\n",
    "### Contents\n",
    "* [Setup](#setup)\n",
    "* [Creating Operator Class](#create_op)\n",
    "* [Creating Application Class](#create_app)\n",
    "* [Executing App Locally](#execute_app_local)\n",
    "* [Write Files to Disk](#write_files)\n",
    "* [Run App using CLI](#run_cli)\n",
    "* [Packing App as Docker Image](#package_app)\n",
    "* [Exercise](#exercise)\n",
    "* [Conclusion](#conclusion)\n",
    "\n",
    "## Implementing and Packaging Application with MONAI Deploy App SDK\n",
    "\n",
    "Based on the Torchscript model(`classifier.zip`), we will implement an application that processes an input Jpeg image and write the prediction(classification) result as a JSON file(`output.json`).\n",
    "\n",
    "In our inference application, we will define two operators:\n",
    "\n",
    "1. `LoadPILOperator` - Load a JPEG image from the input path and pass the loaded image object to the next operator.\n",
    "    - This Operator does similar job with `LoadImage(image_only=True)` transform in *train_transforms*, but handles only one image.\n",
    "    - **Input**: a file path ([`DataPath`](/modules/_autosummary/monai.deploy.core.domain.DataPath))\n",
    "    - **Output**: an image object in memory ([`Image`](/modules/_autosummary/monai.deploy.core.domain.Image))\n",
    "2. `MedNISTClassifierOperator` - Pre-transform the given image by using MONAI's `Compose` class, feed to the Torchscript model (`classifier.zip`), and write the prediction into a JSON file(`output.json`)\n",
    "    - Pre-transforms consist of three transforms -- `AddChannel`, `ScaleIntensity`, and `EnsureType`.\n",
    "    - **Input**: an image object in memory ([`Image`](/modules/_autosummary/monai.deploy.core.domain.Image))\n",
    "    - **Output**: a folder path that the prediction result(`output.json`) would be written ([`DataPath`](/modules/_autosummary/monai.deploy.core.domain.DataPath))\n",
    "\n",
    "The workflow of the application would look like this.\n",
    "\n",
    "<img src=\"images/mednist_workflow.png\" alt=\"Workflow\" style=\"width: 600px;margin-left:auto;margin-right:auto;\"/>\n"
   ]
  },
  {
   "cell_type": "markdown",
   "metadata": {
    "pycharm": {
     "metadata": false
    }
   },
   "source": [
    "<a id='setup'></a>\n",
    "## 0 Setup\n",
    "\n",
    "### 0.1 Setup environment\n",
    "\n",
    "Let's import necessary classes/decorators and define `MEDNIST_CLASSES`. We'll also set up a variable to point to the 02_files folder, where we're storing data throughout this notebook."
   ]
  },
  {
   "cell_type": "code",
   "execution_count": null,
   "metadata": {},
   "outputs": [],
   "source": [
    "NOTEBOOK_ROOT=\"data/02_files/\""
   ]
  },
  {
   "cell_type": "markdown",
   "metadata": {},
   "source": [
    "**Note:** If you're having issues with imports, try to \"Restart Kernel\" for Jupyter from the \"Kernel\" dropdown menu."
   ]
  },
  {
   "cell_type": "markdown",
   "metadata": {},
   "source": [
    "#### Download Data required for all of the MONAI Deploy Notebooks\n",
    "We're going to download sample images and python files required for running the MONAI Deploy Jupyter Notebooks."
   ]
  },
  {
   "cell_type": "code",
   "execution_count": null,
   "metadata": {},
   "outputs": [],
   "source": [
    "!wget https://github.com/zephyrie/monai-bootcamp/releases/download/monai-deploy-data-v0.1/deploy_data.zip\n",
    "!unzip deploy_data.zip"
   ]
  },
  {
   "cell_type": "markdown",
   "metadata": {},
   "source": [
    "### 0.2 Setup imports\n",
    "\n",
    "Let's import necessary classes/decorators and define `MEDNIST_CLASSES`."
   ]
  },
  {
   "cell_type": "code",
   "execution_count": null,
   "metadata": {
    "pycharm": {}
   },
   "outputs": [],
   "source": [
    "import monai.deploy.core as md\n",
    "from monai.deploy.core import (\n",
    "    Application,\n",
    "    DataPath,\n",
    "    ExecutionContext,\n",
    "    Image,\n",
    "    InputContext,\n",
    "    IOType,\n",
    "    Operator,\n",
    "    OutputContext,\n",
    ")\n",
    "from monai.transforms import AddChannel, Compose, EnsureType, ScaleIntensity\n",
    "\n",
    "MEDNIST_CLASSES = [\"AbdomenCT\", \"BreastMRI\", \"CXR\", \"ChestCT\", \"Hand\", \"HeadCT\"]\n",
    "\n",
    "from monai.deploy.operators.dicom_text_sr_writer_operator import DICOMTextSRWriterOperator, EquipmentInfo, ModelInfo\n",
    "from typing import Text"
   ]
  },
  {
   "cell_type": "markdown",
   "metadata": {
    "pycharm": {}
   },
   "source": [
    "<a id='create_op'></a>\n",
    "## 1. Creating Operator classes\n",
    "\n",
    "### 1.1 LoadPIL Operator"
   ]
  },
  {
   "cell_type": "code",
   "execution_count": null,
   "metadata": {
    "pycharm": {}
   },
   "outputs": [],
   "source": [
    "@md.input(\"image\", DataPath, IOType.DISK)\n",
    "@md.output(\"image\", Image, IOType.IN_MEMORY)\n",
    "@md.env(pip_packages=[\"pillow\"])\n",
    "class LoadPILOperator(Operator):\n",
    "    \"\"\"Load image from the given input (DataPath) and set numpy array to the output (Image).\"\"\"\n",
    "\n",
    "    def compute(self, op_input: InputContext, op_output: OutputContext, context: ExecutionContext):\n",
    "        import numpy as np\n",
    "        from PIL import Image as PILImage\n",
    "\n",
    "        input_path = op_input.get().path\n",
    "        if input_path.is_dir():\n",
    "            input_path = next(input_path.glob(\"*.*\"))  # take the first file\n",
    "\n",
    "        image = PILImage.open(input_path)\n",
    "        image = image.convert(\"L\")  # convert to greyscale image\n",
    "        image_arr = np.asarray(image)\n",
    "\n",
    "        output_image = Image(image_arr)  # create Image domain object with a numpy array\n",
    "        op_output.set(output_image)"
   ]
  },
  {
   "cell_type": "markdown",
   "metadata": {
    "pycharm": {}
   },
   "source": [
    "### 1.2 MedNIST Classifier Operator"
   ]
  },
  {
   "cell_type": "code",
   "execution_count": null,
   "metadata": {
    "pycharm": {}
   },
   "outputs": [],
   "source": [
    "@md.input(\"image\", Image, IOType.IN_MEMORY)\n",
    "@md.output(\"output\", DataPath, IOType.DISK)\n",
    "@md.output(\"result_text\", Text, IOType.IN_MEMORY)\n",
    "@md.env(pip_packages=[\"monai\"])\n",
    "class MedNISTClassifierOperator(Operator):\n",
    "    \"\"\"Classifies the given image and returns the class name.\"\"\"\n",
    "\n",
    "    @property\n",
    "    def transform(self):\n",
    "        return Compose([AddChannel(), ScaleIntensity(), EnsureType()])\n",
    "\n",
    "    def compute(self, op_input: InputContext, op_output: OutputContext, context: ExecutionContext):\n",
    "        import json\n",
    "\n",
    "        import torch\n",
    "\n",
    "        img = op_input.get().asnumpy()  # (64, 64), uint8\n",
    "        image_tensor = self.transform(img)  # (1, 64, 64), torch.float64\n",
    "        image_tensor = image_tensor[None].float()  # (1, 1, 64, 64), torch.float32\n",
    "\n",
    "        device = torch.device(\"cuda\" if torch.cuda.is_available() else \"cpu\")\n",
    "        image_tensor = image_tensor.to(device)\n",
    "\n",
    "        model = context.models.get()  # get a TorchScriptModel object\n",
    "\n",
    "        with torch.no_grad():\n",
    "            outputs = model(image_tensor)\n",
    "\n",
    "        _, output_classes = outputs.max(dim=1)\n",
    "\n",
    "        result = MEDNIST_CLASSES[output_classes[0]]  # get the class name\n",
    "        print(result)\n",
    "        op_output.set(result, \"result_text\")\n",
    "\n",
    "        ##### Get output (folder) path and create the folder if not exists\n",
    "        # output_folder = op_output.get().path\n",
    "        # output_folder.mkdir(parents=True, exist_ok=True)\n",
    "\n",
    "        ### The following gets the App context's output path, instead the operator's.\n",
    "        output_folder = context.output.get().path\n",
    "        output_folder.mkdir(parents=True, exist_ok=True)\n",
    "        \n",
    "        \n",
    "        # Write result to \"output.json\"\n",
    "        output_path = output_folder / \"output.json\"\n",
    "        with open(output_path, \"w\") as fp:\n",
    "            json.dump(result, fp)"
   ]
  },
  {
   "cell_type": "markdown",
   "metadata": {
    "pycharm": {}
   },
   "source": [
    "<a id='create_app'></a>\n",
    "## 2. Creating Application class\n",
    "\n",
    "Our application class would look like below.\n",
    "\n",
    "It defines `App` class inheriting `Application` class.\n",
    "\n",
    "`LoadPILOperator` is connected to `MedNISTClassifierOperator` by using `self.add_flow()` in `compose()` method of `App`."
   ]
  },
  {
   "cell_type": "code",
   "execution_count": null,
   "metadata": {
    "pycharm": {}
   },
   "outputs": [],
   "source": [
    "@md.resource(cpu=1, gpu=1, memory=\"1Gi\")\n",
    "class App(Application):\n",
    "    \"\"\"Application class for the MedNIST classifier.\"\"\"\n",
    "\n",
    "    def compose(self):\n",
    "        load_pil_op = LoadPILOperator()\n",
    "        classifier_op = MedNISTClassifierOperator()\n",
    "\n",
    "        self.add_flow(load_pil_op, classifier_op)\n",
    "        \n",
    "        # Hint for the exercise \n",
    "        \n",
    "#         my_model_info = ModelInfo(\"MONAI WG Trainer\", \"MEDNIST Classifier\", \"0.1\", \"xyz\")\n",
    "#         my_equipment = EquipmentInfo(manufacturer=\"MONAI Deploy App SDK\", manufacturer_model=\"DICOM SR Writer\")\n",
    "#         my_special_tags = {\"SeriesDescription\": \"Not for clinical use. The result is for research use only.\"}\n",
    "#         dicom_sr_operator = DICOMTextSRWriterOperator(\n",
    "#             copy_tags=False, model_info=my_model_info, equipment_info=my_equipment, custom_tags=my_special_tags\n",
    "#         )\n",
    "        \n",
    "#         self.add_flow(classifier_op, dicom_sr_operator, {\"result_text\": \"classification_result\"})"
   ]
  },
  {
   "cell_type": "markdown",
   "metadata": {
    "pycharm": {}
   },
   "source": [
    "<a id='execute_app_local'></a>\n",
    "## 3. Executing app locally\n",
    "\n",
    "We can execute the app in the Jupyter notebook."
   ]
  },
  {
   "cell_type": "code",
   "execution_count": null,
   "metadata": {
    "pycharm": {}
   },
   "outputs": [],
   "source": [
    "app = App()\n",
    "app.run(input=NOTEBOOK_ROOT+\"/input/AbdomenCT_007000.jpeg\", output=NOTEBOOK_ROOT+\"/output\", model=NOTEBOOK_ROOT+\"classifier.zip\")"
   ]
  },
  {
   "cell_type": "code",
   "execution_count": null,
   "metadata": {
    "pycharm": {}
   },
   "outputs": [],
   "source": [
    "!cat $NOTEBOOK_ROOT/output/output.json"
   ]
  },
  {
   "cell_type": "markdown",
   "metadata": {
    "pycharm": {},
    "tags": []
   },
   "source": [
    "<a id='write_file'></a>\n",
    "## 4. Write code to Disk\n",
    "\n",
    "Once the application is verified inside the Jupyter notebook, we can write the whole application as a file(`mednist_classifier_monaideploy.py`) by concatenating the code above, then add the following lines:\n",
    "\n",
    "```python\n",
    "if __name__ == \"__main__\":\n",
    "    App(do_run=True)\n",
    "```\n",
    "\n",
    "The above lines are needed to execute the application code by using `python` interpreter.\n",
    "\n",
    "We have already done this for you, and you can open the `02_files/mednist_classifier_monaideploy.py` file by double-clicking on it from the left sidebar of JupyterLab. \n",
    "\n",
    "We're utilizing an existing application provided by MONAI Deploy App SDK.  You can find it in the MONAI Deploy App SDK GitHub Repo in the `examples/app/mednist_classifier_monaideploy` folder: https://github.com/Project-MONAI/monai-deploy-app-sdk/tree/main/examples/apps/mednist_classifier_monaideploy.\n",
    "\n"
   ]
  },
  {
   "cell_type": "markdown",
   "metadata": {
    "pycharm": {}
   },
   "source": [
    "<a id='run_cli'></a>\n",
    "## 5. Run App on CLI\n",
    "You can run the App in one of two ways:\n",
    "- Using the python command\n",
    "- Using the 'monai-deploy' command \n",
    "\n",
    "---\n",
    " > **Note**: We are executing python code which makes developing and debugging simple.\n",
    "---"
   ]
  },
  {
   "cell_type": "code",
   "execution_count": null,
   "metadata": {
    "pycharm": {}
   },
   "outputs": [],
   "source": [
    "!python {NOTEBOOK_ROOT}\"/mednist_classifier_monaideploy.py\" -i {NOTEBOOK_ROOT}\"/input/AbdomenCT_007000.jpeg\" -o {NOTEBOOK_ROOT}\"/output\" -m {NOTEBOOK_ROOT}\"/classifier.zip\""
   ]
  },
  {
   "cell_type": "markdown",
   "metadata": {
    "pycharm": {}
   },
   "source": [
    "The above command and below command both run the application, but one uses python directly, and the other uses the provided MONAI Deploy CLI."
   ]
  },
  {
   "cell_type": "code",
   "execution_count": null,
   "metadata": {
    "pycharm": {}
   },
   "outputs": [],
   "source": [
    "!monai-deploy exec {NOTEBOOK_ROOT}\"/mednist_classifier_monaideploy.py\" -i {NOTEBOOK_ROOT}\"/input/AbdomenCT_007000.jpeg\" -o {NOTEBOOK_ROOT}\"/output\" -m {NOTEBOOK_ROOT}\"/classifier.zip\""
   ]
  },
  {
   "cell_type": "markdown",
   "metadata": {},
   "source": [
    "We'll then use the `cat` comand to display the output result."
   ]
  },
  {
   "cell_type": "code",
   "execution_count": null,
   "metadata": {
    "pycharm": {}
   },
   "outputs": [],
   "source": [
    "!cat {NOTEBOOK_ROOT}/output/output.json"
   ]
  },
  {
   "cell_type": "markdown",
   "metadata": {
    "pycharm": {
     "metadata": false
    },
    "tags": []
   },
   "source": [
    "<a id='package_app'></a>\n",
    "## 6. Package app (creating MAP Docker image)\n",
    "\n",
    "Let's package the app with [MONAI Application Packager](https://docs.monai.io/projects/monai-deploy-app-sdk/en/latest/developing_with_sdk/packaging_app.html).\n",
    "\n",
    "Below we'll use the monai-deploy CLI to package the application by using the package command.  We'll pass the `simple_imaging_app` folder path and use the `simple_app` tag. We'll use the `-l DEBUG` option to see the progress."
   ]
  },
  {
   "cell_type": "code",
   "execution_count": null,
   "metadata": {},
   "outputs": [],
   "source": [
    "#!monai-deploy package {NOTEBOOK_ROOT}\"/mednist_classifier_monaideploy.py\" \\\n",
    "#    --tag mednist_app:latest \\\n",
    "#    --model {NOTEBOOK_ROOT}\"/classifier.zip\" -l DEBUG"
   ]
  },
  {
   "cell_type": "markdown",
   "metadata": {
    "pycharm": {}
   },
   "source": [
    "After creating the docker image, we can verify it by using the `docker image ls` command and grepping for `mednist_app`."
   ]
  },
  {
   "cell_type": "code",
   "execution_count": null,
   "metadata": {
    "pycharm": {}
   },
   "outputs": [],
   "source": [
    "#!docker image ls | grep mednist_app"
   ]
  },
  {
   "cell_type": "markdown",
   "metadata": {
    "pycharm": {
     "metadata": false
    }
   },
   "source": [
    "### 6.1 Executing packaged app locally\n",
    "\n",
    "The packaged app can be run locally through [MONAI Application Runner](https://docs.monai.io/projects/monai-deploy-app-sdk/en/latest/developing_with_sdk/executing_packaged_app_locally.html)."
   ]
  },
  {
   "cell_type": "code",
   "execution_count": null,
   "metadata": {},
   "outputs": [],
   "source": [
    "#!monai-deploy run mednist_app:latest \"${NOTEBOOK_ROOT}/input\" \"${NOTEBOOK_ROOT}/dockerOutput\""
   ]
  },
  {
   "cell_type": "markdown",
   "metadata": {
    "pycharm": {}
   },
   "source": [
    "### 6.2 Check the output from the packaged app\n",
    "Now we can see the results from the packaged docker app."
   ]
  },
  {
   "cell_type": "code",
   "execution_count": null,
   "metadata": {
    "pycharm": {
     "metadata": false,
     "name": "#%%\n"
    }
   },
   "outputs": [],
   "source": [
    "#!cat {NOTEBOOK_ROOT}/output.json"
   ]
  },
  {
   "cell_type": "markdown",
   "metadata": {
    "pycharm": {
     "metadata": false
    }
   },
   "source": [
    "<a id='exercise'></a>\n",
    "## 7. Exercise\n",
    "### 7.1 Generate DICOM Structured report Dicom SR  \n",
    "\n",
    "Most findings need to be structured in a report and displayed to the clinicians in the form of dicomSR. MONAI Deploy already supports DicomSR, and you can simply add the operator to the end of your app.\n",
    "\n",
    "Use lines below to add on to the application\n",
    "``` \n",
    "my_model_info = ModelInfo(\"MONAI WG Trainer\", \"MEDNIST Classifier\", \"0.1\", \"xyz\")\n",
    "my_equipment = EquipmentInfo(manufacturer=\"MONAI Deploy App SDK\", manufacturer_model=\"DICOM SR Writer\")\n",
    "my_special_tags = {\"SeriesDescription\": \"Not for clinical use. The result is for research use only.\"}\n",
    "dicom_sr_operator = DICOMTextSRWriterOperator(\n",
    "    copy_tags=False, model_info=my_model_info, equipment_info=my_equipment, custom_tags=my_special_tags\n",
    ")\n",
    "\n",
    "self.add_flow(classifier_op, dicom_sr_operator, {\"result_text\": \"classification_result\"})\n",
    "```"
   ]
  },
  {
   "cell_type": "markdown",
   "metadata": {
    "pycharm": {}
   },
   "source": [
    "### 7.2 Check the DICOM Structured Report output\n",
    "\n",
    "You can render the DICOM SR in most DICOM viewers. For now, let's inspect the DICOM tags and see the text in the body."
   ]
  },
  {
   "cell_type": "code",
   "execution_count": null,
   "metadata": {
    "pycharm": {
     "metadata": false,
     "name": "#%%\n"
    }
   },
   "outputs": [],
   "source": [
    "import pydicom"
   ]
  },
  {
   "cell_type": "code",
   "execution_count": null,
   "metadata": {
    "pycharm": {
     "metadata": false,
     "name": "#%%\n"
    }
   },
   "outputs": [],
   "source": [
    "!ls -la {NOTEBOOK_ROOT}/output"
   ]
  },
  {
   "cell_type": "markdown",
   "metadata": {},
   "source": [
    "**Note:** Add one of the DICOM files from `ls` output in previous cell to as the dcmSRPath."
   ]
  },
  {
   "cell_type": "code",
   "execution_count": null,
   "metadata": {
    "pycharm": {
     "metadata": false,
     "name": "#%%\n"
    }
   },
   "outputs": [],
   "source": [
    "#replace dcmSRPath with file produced \n",
    "dcmSRPath=\"1.2.826.0.1.3680043.8.498.12345993046274368708659346300123756138_SR.dcm\"\n",
    "pydicom.read_file(NOTEBOOK_ROOT+\"output/\"+dcmSRPath) "
   ]
  },
  {
   "cell_type": "markdown",
   "metadata": {
    "pycharm": {
     "metadata": false,
     "name": "#%%\n"
    }
   },
   "source": [
    "<a id='conclusion'></a>\n",
    "## Conclusion\n",
    "\n",
    "In this notebook, we have walked through the process to create a classification task using a pre-built model using MONAI Deploy App SDK.  You've run the application in Jupyter, locally using Python and the MONAI Deploy CLI, and finally you packaged the application using docker and executed the newly created container image.\n",
    "\n",
    "### What's Next\n",
    "The following notebook we'll walk through a more in-depth organ segmentation task."
   ]
  }
 ],
 "metadata": {
  "kernelspec": {
   "display_name": "Python 3",
   "language": "python",
   "name": "python3"
  },
  "language_info": {
   "codemirror_mode": {
    "name": "ipython",
    "version": 3
   },
   "file_extension": ".py",
   "mimetype": "text/x-python",
   "name": "python",
   "nbconvert_exporter": "python",
   "pygments_lexer": "ipython3",
   "version": "3.8.12"
  }
 },
 "nbformat": 4,
 "nbformat_minor": 4
}
